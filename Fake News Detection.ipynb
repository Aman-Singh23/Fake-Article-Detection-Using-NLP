{
 "cells": [
  {
   "cell_type": "markdown",
   "metadata": {},
   "source": [
    "# Fake News Detection\n",
    "\n",
    "<a><img src=\"fake-news.jpg\"></a>\n",
    "\n",
    "## Problem Statement :\n",
    "    To make a model which is able to determine if an article is fake news or not.\n",
    "    \n",
    "## About Fake News :\n",
    "        Fake news in India refers to misinformation or disinformation in the country which is spread through word of mouth and traditional media and more recently through digital forms of communication such as edited videos, memes, unverified advertisements and social media propagated rumours. Fake news spread through social media in the country has become a serious problem, with the potential of it resulting in mob violence, as was the case where at least 20 people were killed in 2018 as a result of misinformation circulated on social media.\n",
    "        \n",
    "## Task :\n",
    "    We have to build a Deep Learning model using Natural Language Processing [NLP] technique to classify whether the news/article is fake or not.\n",
    "    \n",
    "## About Dataset :\n",
    "    The dataset containing 2 files :\n",
    "        Fake.csv : Contains total of 23481 fake news entries\n",
    "        True.csv : Contains total of 21417 real/true news entries \n",
    "        \n",
    "    Both files consists of parameters such as :\n",
    "        \n",
    "        1) title : The title of the article.\n",
    "        2) text : The text of the article.\n",
    "        3) subject : The subject of the article.\n",
    "        4) date : The date at which the article was posted.\n",
    "        \n",
    "#### Dataset Link : https://www.kaggle.com/clmentbisaillon/fake-and-real-news-dataset"
   ]
  },
  {
   "cell_type": "markdown",
   "metadata": {},
   "source": [
    "### Mounting drive on Google Colab"
   ]
  },
  {
   "cell_type": "code",
   "execution_count": 1,
   "metadata": {
    "colab": {
     "base_uri": "https://localhost:8080/"
    },
    "executionInfo": {
     "elapsed": 48603,
     "status": "ok",
     "timestamp": 1630008638622,
     "user": {
      "displayName": "Aman Singh",
      "photoUrl": "https://lh3.googleusercontent.com/a-/AOh14GgCMG5tAFMLpMbnz0yQD9qGlcZDV7pahu9FRnVHkw=s64",
      "userId": "15069203180863103067"
     },
     "user_tz": -330
    },
    "id": "jLGSTtW0Efg5",
    "outputId": "0f94f0cf-ce4c-4ef9-ff0a-6fa5f0896a68"
   },
   "outputs": [
    {
     "name": "stdout",
     "output_type": "stream",
     "text": [
      "Mounted at /content/drive/\n"
     ]
    }
   ],
   "source": [
    "from google.colab import drive\n",
    "drive.mount('/content/drive/')"
   ]
  },
  {
   "cell_type": "markdown",
   "metadata": {},
   "source": [
    "### Importing Libraries"
   ]
  },
  {
   "cell_type": "code",
   "execution_count": 2,
   "metadata": {
    "executionInfo": {
     "elapsed": 1666,
     "status": "ok",
     "timestamp": 1630008834283,
     "user": {
      "displayName": "Aman Singh",
      "photoUrl": "https://lh3.googleusercontent.com/a-/AOh14GgCMG5tAFMLpMbnz0yQD9qGlcZDV7pahu9FRnVHkw=s64",
      "userId": "15069203180863103067"
     },
     "user_tz": -330
    },
    "id": "MfQsfocRFTxE"
   },
   "outputs": [],
   "source": [
    "import numpy as np\n",
    "import pandas as pd\n",
    "import matplotlib.pyplot as plt\n",
    "import seaborn as sns\n",
    "import nltk\n",
    "import re \n",
    "from wordcloud import WordCloud"
   ]
  },
  {
   "cell_type": "code",
   "execution_count": 3,
   "metadata": {
    "executionInfo": {
     "elapsed": 2142,
     "status": "ok",
     "timestamp": 1630008856109,
     "user": {
      "displayName": "Aman Singh",
      "photoUrl": "https://lh3.googleusercontent.com/a-/AOh14GgCMG5tAFMLpMbnz0yQD9qGlcZDV7pahu9FRnVHkw=s64",
      "userId": "15069203180863103067"
     },
     "user_tz": -330
    },
    "id": "HxWwgpp-GO_O"
   },
   "outputs": [],
   "source": [
    "from tensorflow.keras.preprocessing.text import Tokenizer\n",
    "from tensorflow.keras.preprocessing.sequence import pad_sequences\n",
    "from tensorflow.keras.models import Sequential\n",
    "from tensorflow.keras.layers import Dense, Embedding, LSTM, Conv1D, MaxPooling1D\n",
    "from sklearn.model_selection import train_test_split\n",
    "from sklearn.metrics import classification_report, accuracy_score , confusion_matrix"
   ]
  },
  {
   "cell_type": "markdown",
   "metadata": {},
   "source": [
    "### Exploring Fake News"
   ]
  },
  {
   "cell_type": "code",
   "execution_count": 5,
   "metadata": {
    "colab": {
     "base_uri": "https://localhost:8080/",
     "height": 204
    },
    "executionInfo": {
     "elapsed": 2582,
     "status": "ok",
     "timestamp": 1630008948716,
     "user": {
      "displayName": "Aman Singh",
      "photoUrl": "https://lh3.googleusercontent.com/a-/AOh14GgCMG5tAFMLpMbnz0yQD9qGlcZDV7pahu9FRnVHkw=s64",
      "userId": "15069203180863103067"
     },
     "user_tz": -330
    },
    "id": "ppQ1zb85GUND",
    "outputId": "e412ae32-4548-48f3-c748-8a789246f59d"
   },
   "outputs": [
    {
     "data": {
      "text/html": [
       "<div>\n",
       "<style scoped>\n",
       "    .dataframe tbody tr th:only-of-type {\n",
       "        vertical-align: middle;\n",
       "    }\n",
       "\n",
       "    .dataframe tbody tr th {\n",
       "        vertical-align: top;\n",
       "    }\n",
       "\n",
       "    .dataframe thead th {\n",
       "        text-align: right;\n",
       "    }\n",
       "</style>\n",
       "<table border=\"1\" class=\"dataframe\">\n",
       "  <thead>\n",
       "    <tr style=\"text-align: right;\">\n",
       "      <th></th>\n",
       "      <th>title</th>\n",
       "      <th>text</th>\n",
       "      <th>subject</th>\n",
       "      <th>date</th>\n",
       "    </tr>\n",
       "  </thead>\n",
       "  <tbody>\n",
       "    <tr>\n",
       "      <th>0</th>\n",
       "      <td>Donald Trump Sends Out Embarrassing New Year’...</td>\n",
       "      <td>Donald Trump just couldn t wish all Americans ...</td>\n",
       "      <td>News</td>\n",
       "      <td>December 31, 2017</td>\n",
       "    </tr>\n",
       "    <tr>\n",
       "      <th>1</th>\n",
       "      <td>Drunk Bragging Trump Staffer Started Russian ...</td>\n",
       "      <td>House Intelligence Committee Chairman Devin Nu...</td>\n",
       "      <td>News</td>\n",
       "      <td>December 31, 2017</td>\n",
       "    </tr>\n",
       "    <tr>\n",
       "      <th>2</th>\n",
       "      <td>Sheriff David Clarke Becomes An Internet Joke...</td>\n",
       "      <td>On Friday, it was revealed that former Milwauk...</td>\n",
       "      <td>News</td>\n",
       "      <td>December 30, 2017</td>\n",
       "    </tr>\n",
       "    <tr>\n",
       "      <th>3</th>\n",
       "      <td>Trump Is So Obsessed He Even Has Obama’s Name...</td>\n",
       "      <td>On Christmas day, Donald Trump announced that ...</td>\n",
       "      <td>News</td>\n",
       "      <td>December 29, 2017</td>\n",
       "    </tr>\n",
       "    <tr>\n",
       "      <th>4</th>\n",
       "      <td>Pope Francis Just Called Out Donald Trump Dur...</td>\n",
       "      <td>Pope Francis used his annual Christmas Day mes...</td>\n",
       "      <td>News</td>\n",
       "      <td>December 25, 2017</td>\n",
       "    </tr>\n",
       "  </tbody>\n",
       "</table>\n",
       "</div>"
      ],
      "text/plain": [
       "                                               title  ...               date\n",
       "0   Donald Trump Sends Out Embarrassing New Year’...  ...  December 31, 2017\n",
       "1   Drunk Bragging Trump Staffer Started Russian ...  ...  December 31, 2017\n",
       "2   Sheriff David Clarke Becomes An Internet Joke...  ...  December 30, 2017\n",
       "3   Trump Is So Obsessed He Even Has Obama’s Name...  ...  December 29, 2017\n",
       "4   Pope Francis Just Called Out Donald Trump Dur...  ...  December 25, 2017\n",
       "\n",
       "[5 rows x 4 columns]"
      ]
     },
     "execution_count": 5,
     "metadata": {},
     "output_type": "execute_result"
    }
   ],
   "source": [
    "fake = pd.read_csv(r\"/content/drive/MyDrive/Fake_News_Detection/Dataset/Fake.csv\")\n",
    "fake.head()"
   ]
  },
  {
   "cell_type": "code",
   "execution_count": 7,
   "metadata": {
    "colab": {
     "base_uri": "https://localhost:8080/"
    },
    "executionInfo": {
     "elapsed": 392,
     "status": "ok",
     "timestamp": 1630009119124,
     "user": {
      "displayName": "Aman Singh",
      "photoUrl": "https://lh3.googleusercontent.com/a-/AOh14GgCMG5tAFMLpMbnz0yQD9qGlcZDV7pahu9FRnVHkw=s64",
      "userId": "15069203180863103067"
     },
     "user_tz": -330
    },
    "id": "z-kbABiJGsfW",
    "outputId": "c0646655-be30-46d5-8c46-cac6c822f7ac"
   },
   "outputs": [
    {
     "name": "stdout",
     "output_type": "stream",
     "text": [
      "<class 'pandas.core.frame.DataFrame'>\n",
      "RangeIndex: 23481 entries, 0 to 23480\n",
      "Data columns (total 4 columns):\n",
      " #   Column   Non-Null Count  Dtype \n",
      "---  ------   --------------  ----- \n",
      " 0   title    23481 non-null  object\n",
      " 1   text     23481 non-null  object\n",
      " 2   subject  23481 non-null  object\n",
      " 3   date     23481 non-null  object\n",
      "dtypes: object(4)\n",
      "memory usage: 733.9+ KB\n"
     ]
    }
   ],
   "source": [
    "fake.info()"
   ]
  },
  {
   "cell_type": "code",
   "execution_count": 8,
   "metadata": {
    "colab": {
     "base_uri": "https://localhost:8080/"
    },
    "executionInfo": {
     "elapsed": 662,
     "status": "ok",
     "timestamp": 1630009120264,
     "user": {
      "displayName": "Aman Singh",
      "photoUrl": "https://lh3.googleusercontent.com/a-/AOh14GgCMG5tAFMLpMbnz0yQD9qGlcZDV7pahu9FRnVHkw=s64",
      "userId": "15069203180863103067"
     },
     "user_tz": -330
    },
    "id": "Y1q1C54CGsmF",
    "outputId": "ba3ed2e6-4060-4603-d82d-95ffe88426b5"
   },
   "outputs": [
    {
     "data": {
      "text/plain": [
       "Index(['title', 'text', 'subject', 'date'], dtype='object')"
      ]
     },
     "execution_count": 8,
     "metadata": {},
     "output_type": "execute_result"
    }
   ],
   "source": [
    "fake.columns"
   ]
  },
  {
   "cell_type": "code",
   "execution_count": 9,
   "metadata": {
    "colab": {
     "base_uri": "https://localhost:8080/"
    },
    "executionInfo": {
     "elapsed": 393,
     "status": "ok",
     "timestamp": 1630009123805,
     "user": {
      "displayName": "Aman Singh",
      "photoUrl": "https://lh3.googleusercontent.com/a-/AOh14GgCMG5tAFMLpMbnz0yQD9qGlcZDV7pahu9FRnVHkw=s64",
      "userId": "15069203180863103067"
     },
     "user_tz": -330
    },
    "id": "MHG46agMGssF",
    "outputId": "192fb0b7-f1d2-4742-94e8-016a088c44e4"
   },
   "outputs": [
    {
     "data": {
      "text/plain": [
       "News               9050\n",
       "politics           6841\n",
       "left-news          4459\n",
       "Government News    1570\n",
       "US_News             783\n",
       "Middle-east         778\n",
       "Name: subject, dtype: int64"
      ]
     },
     "execution_count": 9,
     "metadata": {},
     "output_type": "execute_result"
    }
   ],
   "source": [
    "fake['subject'].value_counts()"
   ]
  },
  {
   "cell_type": "code",
   "execution_count": 10,
   "metadata": {
    "colab": {
     "base_uri": "https://localhost:8080/",
     "height": 406
    },
    "executionInfo": {
     "elapsed": 426,
     "status": "ok",
     "timestamp": 1630009126831,
     "user": {
      "displayName": "Aman Singh",
      "photoUrl": "https://lh3.googleusercontent.com/a-/AOh14GgCMG5tAFMLpMbnz0yQD9qGlcZDV7pahu9FRnVHkw=s64",
      "userId": "15069203180863103067"
     },
     "user_tz": -330
    },
    "id": "fHdek4xfGsxk",
    "outputId": "71e8c3de-4897-4323-f14c-98f0204f103d"
   },
   "outputs": [
    {
     "data": {
      "text/plain": [
       "<matplotlib.axes._subplots.AxesSubplot at 0x7fc1425dce10>"
      ]
     },
     "execution_count": 10,
     "metadata": {},
     "output_type": "execute_result"
    },
    {
     "data": {
      "image/png": "[encoded data removed]",
      "text/plain": [
       "<Figure size 720x432 with 1 Axes>"
      ]
     },
     "metadata": {
      "needs_background": "light"
     },
     "output_type": "display_data"
    }
   ],
   "source": [
    "plt.figure(figsize=(10,6))\n",
    "sns.countplot(x = 'subject' , data=fake)"
   ]
  },
  {
   "cell_type": "markdown",
   "metadata": {},
   "source": [
    "### Word Cloud"
   ]
  },
  {
   "cell_type": "code",
   "execution_count": 11,
   "metadata": {
    "colab": {
     "base_uri": "https://localhost:8080/"
    },
    "executionInfo": {
     "elapsed": 442,
     "status": "ok",
     "timestamp": 1630009130104,
     "user": {
      "displayName": "Aman Singh",
      "photoUrl": "https://lh3.googleusercontent.com/a-/AOh14GgCMG5tAFMLpMbnz0yQD9qGlcZDV7pahu9FRnVHkw=s64",
      "userId": "15069203180863103067"
     },
     "user_tz": -330
    },
    "id": "MCQsz62JGs3c",
    "outputId": "92b11ced-a3e7-48be-db90-1cae21ef7770"
   },
   "outputs": [
    {
     "data": {
      "text/plain": [
       "0        Donald Trump just couldn t wish all Americans ...\n",
       "1        House Intelligence Committee Chairman Devin Nu...\n",
       "2        On Friday, it was revealed that former Milwauk...\n",
       "3        On Christmas day, Donald Trump announced that ...\n",
       "4        Pope Francis used his annual Christmas Day mes...\n",
       "                               ...                        \n",
       "23476    21st Century Wire says As 21WIRE reported earl...\n",
       "23477    21st Century Wire says It s a familiar theme. ...\n",
       "23478    Patrick Henningsen  21st Century WireRemember ...\n",
       "23479    21st Century Wire says Al Jazeera America will...\n",
       "23480    21st Century Wire says As 21WIRE predicted in ...\n",
       "Name: text, Length: 23481, dtype: object"
      ]
     },
     "execution_count": 11,
     "metadata": {},
     "output_type": "execute_result"
    }
   ],
   "source": [
    "fake['text']"
   ]
  },
  {
   "cell_type": "code",
   "execution_count": 13,
   "metadata": {
    "colab": {
     "base_uri": "https://localhost:8080/",
     "output_embedded_package_id": "13sslT98yD8K8T2FHfRh0I5Scxovu7lGT"
    },
    "executionInfo": {
     "elapsed": 2190,
     "status": "ok",
     "timestamp": 1630009150450,
     "user": {
      "displayName": "Aman Singh",
      "photoUrl": "https://lh3.googleusercontent.com/a-/AOh14GgCMG5tAFMLpMbnz0yQD9qGlcZDV7pahu9FRnVHkw=s64",
      "userId": "15069203180863103067"
     },
     "user_tz": -330
    },
    "id": "c9CPzS5WGs9N",
    "outputId": "4e547b28-111d-4105-96bb-049868c9ee34"
   },
   "outputs": [
    {
     "data": {
      "text/plain": [
       "Output hidden; open in https://colab.research.google.com to view."
      ]
     },
     "metadata": {},
     "output_type": "display_data"
    }
   ],
   "source": [
    "fake['text'].tolist()"
   ]
  },
  {
   "cell_type": "code",
   "execution_count": 14,
   "metadata": {
    "colab": {
     "base_uri": "https://localhost:8080/"
    },
    "executionInfo": {
     "elapsed": 456,
     "status": "ok",
     "timestamp": 1630009160740,
     "user": {
      "displayName": "Aman Singh",
      "photoUrl": "https://lh3.googleusercontent.com/a-/AOh14GgCMG5tAFMLpMbnz0yQD9qGlcZDV7pahu9FRnVHkw=s64",
      "userId": "15069203180863103067"
     },
     "user_tz": -330
    },
    "id": "6Xn7allpGtC9",
    "outputId": "df04b3e9-ad1f-412f-9c57-bdb76488c89f"
   },
   "outputs": [
    {
     "data": {
      "text/plain": [
       "list"
      ]
     },
     "execution_count": 14,
     "metadata": {},
     "output_type": "execute_result"
    }
   ],
   "source": [
    "type(fake['text'].tolist())"
   ]
  },
  {
   "cell_type": "code",
   "execution_count": 15,
   "metadata": {
    "executionInfo": {
     "elapsed": 3,
     "status": "ok",
     "timestamp": 1630009162985,
     "user": {
      "displayName": "Aman Singh",
      "photoUrl": "https://lh3.googleusercontent.com/a-/AOh14GgCMG5tAFMLpMbnz0yQD9qGlcZDV7pahu9FRnVHkw=s64",
      "userId": "15069203180863103067"
     },
     "user_tz": -330
    },
    "id": "6BwFTTIUGtI0"
   },
   "outputs": [],
   "source": [
    "text = ' '.join(fake['text'].tolist()) # list data convert into single string"
   ]
  },
  {
   "cell_type": "code",
   "execution_count": 16,
   "metadata": {
    "colab": {
     "base_uri": "https://localhost:8080/"
    },
    "executionInfo": {
     "elapsed": 3,
     "status": "ok",
     "timestamp": 1630009164166,
     "user": {
      "displayName": "Aman Singh",
      "photoUrl": "https://lh3.googleusercontent.com/a-/AOh14GgCMG5tAFMLpMbnz0yQD9qGlcZDV7pahu9FRnVHkw=s64",
      "userId": "15069203180863103067"
     },
     "user_tz": -330
    },
    "id": "bpg7ypvHGtQU",
    "outputId": "784e580e-f543-4c50-db72-7273d26f14f7"
   },
   "outputs": [
    {
     "data": {
      "text/plain": [
       "str"
      ]
     },
     "execution_count": 16,
     "metadata": {},
     "output_type": "execute_result"
    }
   ],
   "source": [
    "type(text)"
   ]
  },
  {
   "cell_type": "code",
   "execution_count": 17,
   "metadata": {
    "colab": {
     "base_uri": "https://localhost:8080/",
     "height": 436
    },
    "executionInfo": {
     "elapsed": 39505,
     "status": "ok",
     "timestamp": 1630009208238,
     "user": {
      "displayName": "Aman Singh",
      "photoUrl": "https://lh3.googleusercontent.com/a-/AOh14GgCMG5tAFMLpMbnz0yQD9qGlcZDV7pahu9FRnVHkw=s64",
      "userId": "15069203180863103067"
     },
     "user_tz": -330
    },
    "id": "2GAPZ2U5HAB8",
    "outputId": "7e071cb6-2447-4a63-c47c-db03776989d3"
   },
   "outputs": [
    {
     "data": {
      "image/png": "[encoded data removed]",
      "text/plain": [
       "<Figure size 720x720 with 1 Axes>"
      ]
     },
     "metadata": {
      "needs_background": "light"
     },
     "output_type": "display_data"
    }
   ],
   "source": [
    "wordcloud = WordCloud(width=1920 , height=1080).generate(text)\n",
    "fig = plt.figure(figsize = (10,10))\n",
    "plt.imshow(wordcloud)\n",
    "plt.axis('off')\n",
    "plt.tight_layout(pad=0)\n",
    "plt.show()"
   ]
  },
  {
   "cell_type": "markdown",
   "metadata": {},
   "source": [
    "### Exploring Real News"
   ]
  },
  {
   "cell_type": "code",
   "execution_count": 18,
   "metadata": {
    "colab": {
     "base_uri": "https://localhost:8080/",
     "height": 204
    },
    "executionInfo": {
     "elapsed": 669,
     "status": "ok",
     "timestamp": 1630009208901,
     "user": {
      "displayName": "Aman Singh",
      "photoUrl": "https://lh3.googleusercontent.com/a-/AOh14GgCMG5tAFMLpMbnz0yQD9qGlcZDV7pahu9FRnVHkw=s64",
      "userId": "15069203180863103067"
     },
     "user_tz": -330
    },
    "id": "d_qYBRhJHAGj",
    "outputId": "dd5360c8-59e5-473c-e106-6df78bdf3d36"
   },
   "outputs": [
    {
     "data": {
      "text/html": [
       "<div>\n",
       "<style scoped>\n",
       "    .dataframe tbody tr th:only-of-type {\n",
       "        vertical-align: middle;\n",
       "    }\n",
       "\n",
       "    .dataframe tbody tr th {\n",
       "        vertical-align: top;\n",
       "    }\n",
       "\n",
       "    .dataframe thead th {\n",
       "        text-align: right;\n",
       "    }\n",
       "</style>\n",
       "<table border=\"1\" class=\"dataframe\">\n",
       "  <thead>\n",
       "    <tr style=\"text-align: right;\">\n",
       "      <th></th>\n",
       "      <th>title</th>\n",
       "      <th>text</th>\n",
       "      <th>subject</th>\n",
       "      <th>date</th>\n",
       "    </tr>\n",
       "  </thead>\n",
       "  <tbody>\n",
       "    <tr>\n",
       "      <th>0</th>\n",
       "      <td>As U.S. budget fight looms, Republicans flip t...</td>\n",
       "      <td>WASHINGTON (Reuters) - The head of a conservat...</td>\n",
       "      <td>politicsNews</td>\n",
       "      <td>December 31, 2017</td>\n",
       "    </tr>\n",
       "    <tr>\n",
       "      <th>1</th>\n",
       "      <td>U.S. military to accept transgender recruits o...</td>\n",
       "      <td>WASHINGTON (Reuters) - Transgender people will...</td>\n",
       "      <td>politicsNews</td>\n",
       "      <td>December 29, 2017</td>\n",
       "    </tr>\n",
       "    <tr>\n",
       "      <th>2</th>\n",
       "      <td>Senior U.S. Republican senator: 'Let Mr. Muell...</td>\n",
       "      <td>WASHINGTON (Reuters) - The special counsel inv...</td>\n",
       "      <td>politicsNews</td>\n",
       "      <td>December 31, 2017</td>\n",
       "    </tr>\n",
       "    <tr>\n",
       "      <th>3</th>\n",
       "      <td>FBI Russia probe helped by Australian diplomat...</td>\n",
       "      <td>WASHINGTON (Reuters) - Trump campaign adviser ...</td>\n",
       "      <td>politicsNews</td>\n",
       "      <td>December 30, 2017</td>\n",
       "    </tr>\n",
       "    <tr>\n",
       "      <th>4</th>\n",
       "      <td>Trump wants Postal Service to charge 'much mor...</td>\n",
       "      <td>SEATTLE/WASHINGTON (Reuters) - President Donal...</td>\n",
       "      <td>politicsNews</td>\n",
       "      <td>December 29, 2017</td>\n",
       "    </tr>\n",
       "  </tbody>\n",
       "</table>\n",
       "</div>"
      ],
      "text/plain": [
       "                                               title  ...                date\n",
       "0  As U.S. budget fight looms, Republicans flip t...  ...  December 31, 2017 \n",
       "1  U.S. military to accept transgender recruits o...  ...  December 29, 2017 \n",
       "2  Senior U.S. Republican senator: 'Let Mr. Muell...  ...  December 31, 2017 \n",
       "3  FBI Russia probe helped by Australian diplomat...  ...  December 30, 2017 \n",
       "4  Trump wants Postal Service to charge 'much mor...  ...  December 29, 2017 \n",
       "\n",
       "[5 rows x 4 columns]"
      ]
     },
     "execution_count": 18,
     "metadata": {},
     "output_type": "execute_result"
    }
   ],
   "source": [
    "real = pd.read_csv(r\"/content/drive/MyDrive/Fake_News_Detection/Dataset/True.csv\")\n",
    "real.head()"
   ]
  },
  {
   "cell_type": "code",
   "execution_count": 19,
   "metadata": {
    "colab": {
     "base_uri": "https://localhost:8080/"
    },
    "executionInfo": {
     "elapsed": 420,
     "status": "ok",
     "timestamp": 1630009510067,
     "user": {
      "displayName": "Aman Singh",
      "photoUrl": "https://lh3.googleusercontent.com/a-/AOh14GgCMG5tAFMLpMbnz0yQD9qGlcZDV7pahu9FRnVHkw=s64",
      "userId": "15069203180863103067"
     },
     "user_tz": -330
    },
    "id": "1RK52X60HAKN",
    "outputId": "5cdcdfd5-47ec-436f-f422-7770637eb21e"
   },
   "outputs": [
    {
     "name": "stdout",
     "output_type": "stream",
     "text": [
      "<class 'pandas.core.frame.DataFrame'>\n",
      "RangeIndex: 21417 entries, 0 to 21416\n",
      "Data columns (total 4 columns):\n",
      " #   Column   Non-Null Count  Dtype \n",
      "---  ------   --------------  ----- \n",
      " 0   title    21417 non-null  object\n",
      " 1   text     21417 non-null  object\n",
      " 2   subject  21417 non-null  object\n",
      " 3   date     21417 non-null  object\n",
      "dtypes: object(4)\n",
      "memory usage: 669.4+ KB\n"
     ]
    }
   ],
   "source": [
    "real.info()"
   ]
  },
  {
   "cell_type": "code",
   "execution_count": 20,
   "metadata": {
    "colab": {
     "base_uri": "https://localhost:8080/"
    },
    "executionInfo": {
     "elapsed": 400,
     "status": "ok",
     "timestamp": 1630009515288,
     "user": {
      "displayName": "Aman Singh",
      "photoUrl": "https://lh3.googleusercontent.com/a-/AOh14GgCMG5tAFMLpMbnz0yQD9qGlcZDV7pahu9FRnVHkw=s64",
      "userId": "15069203180863103067"
     },
     "user_tz": -330
    },
    "id": "KM-9zViKHANG",
    "outputId": "585fce52-2cef-49d9-a00c-2e0206090758"
   },
   "outputs": [
    {
     "data": {
      "text/plain": [
       "politicsNews    11272\n",
       "worldnews       10145\n",
       "Name: subject, dtype: int64"
      ]
     },
     "execution_count": 20,
     "metadata": {},
     "output_type": "execute_result"
    }
   ],
   "source": [
    "real['subject'].value_counts()"
   ]
  },
  {
   "cell_type": "code",
   "execution_count": 21,
   "metadata": {
    "colab": {
     "base_uri": "https://localhost:8080/",
     "height": 405
    },
    "executionInfo": {
     "elapsed": 487,
     "status": "ok",
     "timestamp": 1630009517803,
     "user": {
      "displayName": "Aman Singh",
      "photoUrl": "https://lh3.googleusercontent.com/a-/AOh14GgCMG5tAFMLpMbnz0yQD9qGlcZDV7pahu9FRnVHkw=s64",
      "userId": "15069203180863103067"
     },
     "user_tz": -330
    },
    "id": "t5AE_RBoHAPr",
    "outputId": "052166da-fae2-4364-e1ed-3f427d5eac8d"
   },
   "outputs": [
    {
     "data": {
      "text/plain": [
       "<matplotlib.axes._subplots.AxesSubplot at 0x7fc141046ad0>"
      ]
     },
     "execution_count": 21,
     "metadata": {},
     "output_type": "execute_result"
    },
    {
     "data": {
      "image/png": "[encoded data removed]",
      "text/plain": [
       "<Figure size 720x432 with 1 Axes>"
      ]
     },
     "metadata": {
      "needs_background": "light"
     },
     "output_type": "display_data"
    }
   ],
   "source": [
    "plt.figure(figsize=(10,6))\n",
    "sns.countplot(x = 'subject' , data=real)"
   ]
  },
  {
   "cell_type": "markdown",
   "metadata": {},
   "source": [
    "### Word Cloud"
   ]
  },
  {
   "cell_type": "code",
   "execution_count": 22,
   "metadata": {
    "executionInfo": {
     "elapsed": 403,
     "status": "ok",
     "timestamp": 1630009520980,
     "user": {
      "displayName": "Aman Singh",
      "photoUrl": "https://lh3.googleusercontent.com/a-/AOh14GgCMG5tAFMLpMbnz0yQD9qGlcZDV7pahu9FRnVHkw=s64",
      "userId": "15069203180863103067"
     },
     "user_tz": -330
    },
    "id": "iHuLN7zbHASb"
   },
   "outputs": [],
   "source": [
    "text = ' '.join(real['text'].tolist()) # list data convert into single string"
   ]
  },
  {
   "cell_type": "code",
   "execution_count": 23,
   "metadata": {
    "colab": {
     "base_uri": "https://localhost:8080/",
     "height": 436
    },
    "executionInfo": {
     "elapsed": 33694,
     "status": "ok",
     "timestamp": 1630009558487,
     "user": {
      "displayName": "Aman Singh",
      "photoUrl": "https://lh3.googleusercontent.com/a-/AOh14GgCMG5tAFMLpMbnz0yQD9qGlcZDV7pahu9FRnVHkw=s64",
      "userId": "15069203180863103067"
     },
     "user_tz": -330
    },
    "id": "YsEL5VhlHAXp",
    "outputId": "f95ee49e-ebe3-4bbb-dc54-464f74816f97"
   },
   "outputs": [
    {
     "data": {
      "image/png": "[encoded data removed]",
      "text/plain": [
       "<Figure size 720x720 with 1 Axes>"
      ]
     },
     "metadata": {
      "needs_background": "light"
     },
     "output_type": "display_data"
    }
   ],
   "source": [
    "wordcloud = WordCloud(width=1920 , height=1080).generate(text)\n",
    "fig = plt.figure(figsize = (10,10))\n",
    "plt.imshow(wordcloud)\n",
    "plt.axis('off')\n",
    "plt.tight_layout(pad=0)\n",
    "plt.show()"
   ]
  },
  {
   "cell_type": "markdown",
   "metadata": {},
   "source": [
    "### Dropping rows having missing information"
   ]
  },
  {
   "cell_type": "code",
   "execution_count": 24,
   "metadata": {
    "executionInfo": {
     "elapsed": 30,
     "status": "ok",
     "timestamp": 1630009558488,
     "user": {
      "displayName": "Aman Singh",
      "photoUrl": "https://lh3.googleusercontent.com/a-/AOh14GgCMG5tAFMLpMbnz0yQD9qGlcZDV7pahu9FRnVHkw=s64",
      "userId": "15069203180863103067"
     },
     "user_tz": -330
    },
    "id": "Hso_rMCRHAZ7"
   },
   "outputs": [],
   "source": [
    "unknown_publishers = []\n",
    "\n",
    "for index, row in enumerate(real.text.values):\n",
    "    try:\n",
    "        record = row.split('-' , maxsplit = 1)\n",
    "        record[1]\n",
    "        \n",
    "        assert(len(record[0]) < 120)\n",
    "    except:\n",
    "        unknown_publishers.append(index)"
   ]
  },
  {
   "cell_type": "code",
   "execution_count": 25,
   "metadata": {
    "colab": {
     "base_uri": "https://localhost:8080/"
    },
    "executionInfo": {
     "elapsed": 30,
     "status": "ok",
     "timestamp": 1630009558489,
     "user": {
      "displayName": "Aman Singh",
      "photoUrl": "https://lh3.googleusercontent.com/a-/AOh14GgCMG5tAFMLpMbnz0yQD9qGlcZDV7pahu9FRnVHkw=s64",
      "userId": "15069203180863103067"
     },
     "user_tz": -330
    },
    "id": "XhY4gQaIHAc3",
    "outputId": "ab2cc82c-250b-4798-fa62-6b7a033e2ad3"
   },
   "outputs": [
    {
     "data": {
      "text/plain": [
       "222"
      ]
     },
     "execution_count": 25,
     "metadata": {},
     "output_type": "execute_result"
    }
   ],
   "source": [
    "len(unknown_publishers)"
   ]
  },
  {
   "cell_type": "code",
   "execution_count": 26,
   "metadata": {
    "colab": {
     "base_uri": "https://localhost:8080/",
     "height": 419
    },
    "executionInfo": {
     "elapsed": 26,
     "status": "ok",
     "timestamp": 1630009558489,
     "user": {
      "displayName": "Aman Singh",
      "photoUrl": "https://lh3.googleusercontent.com/a-/AOh14GgCMG5tAFMLpMbnz0yQD9qGlcZDV7pahu9FRnVHkw=s64",
      "userId": "15069203180863103067"
     },
     "user_tz": -330
    },
    "id": "ZBpBbwd1HAg9",
    "outputId": "a22e7002-778a-46e0-faaf-7783fd7b40cf"
   },
   "outputs": [
    {
     "data": {
      "text/html": [
       "<div>\n",
       "<style scoped>\n",
       "    .dataframe tbody tr th:only-of-type {\n",
       "        vertical-align: middle;\n",
       "    }\n",
       "\n",
       "    .dataframe tbody tr th {\n",
       "        vertical-align: top;\n",
       "    }\n",
       "\n",
       "    .dataframe thead th {\n",
       "        text-align: right;\n",
       "    }\n",
       "</style>\n",
       "<table border=\"1\" class=\"dataframe\">\n",
       "  <thead>\n",
       "    <tr style=\"text-align: right;\">\n",
       "      <th></th>\n",
       "      <th>title</th>\n",
       "      <th>text</th>\n",
       "      <th>subject</th>\n",
       "      <th>date</th>\n",
       "    </tr>\n",
       "  </thead>\n",
       "  <tbody>\n",
       "    <tr>\n",
       "      <th>7</th>\n",
       "      <td>Factbox: Trump on Twitter (Dec 29) - Approval ...</td>\n",
       "      <td>The following statements were posted to the ve...</td>\n",
       "      <td>politicsNews</td>\n",
       "      <td>December 29, 2017</td>\n",
       "    </tr>\n",
       "    <tr>\n",
       "      <th>8</th>\n",
       "      <td>Trump on Twitter (Dec 28) - Global Warming</td>\n",
       "      <td>The following statements were posted to the ve...</td>\n",
       "      <td>politicsNews</td>\n",
       "      <td>December 29, 2017</td>\n",
       "    </tr>\n",
       "    <tr>\n",
       "      <th>12</th>\n",
       "      <td>Factbox: Trump on Twitter (Dec 28) - Vanity Fa...</td>\n",
       "      <td>The following statements were posted to the ve...</td>\n",
       "      <td>politicsNews</td>\n",
       "      <td>December 28, 2017</td>\n",
       "    </tr>\n",
       "    <tr>\n",
       "      <th>13</th>\n",
       "      <td>Trump on Twitter (Dec 27) - Trump, Iraq, Syria</td>\n",
       "      <td>The following statements were posted to the ve...</td>\n",
       "      <td>politicsNews</td>\n",
       "      <td>December 28, 2017</td>\n",
       "    </tr>\n",
       "    <tr>\n",
       "      <th>14</th>\n",
       "      <td>Man says he delivered manure to Mnuchin to pro...</td>\n",
       "      <td>(In Dec. 25 story, in second paragraph, corre...</td>\n",
       "      <td>politicsNews</td>\n",
       "      <td>December 25, 2017</td>\n",
       "    </tr>\n",
       "    <tr>\n",
       "      <th>...</th>\n",
       "      <td>...</td>\n",
       "      <td>...</td>\n",
       "      <td>...</td>\n",
       "      <td>...</td>\n",
       "    </tr>\n",
       "    <tr>\n",
       "      <th>20135</th>\n",
       "      <td>China's big money trumps U.S. influence in Cam...</td>\n",
       "      <td>(Story corrects to million from billion in pa...</td>\n",
       "      <td>worldnews</td>\n",
       "      <td>September 11, 2017</td>\n",
       "    </tr>\n",
       "    <tr>\n",
       "      <th>20500</th>\n",
       "      <td>UK publisher rejected request to block academi...</td>\n",
       "      <td>(This Sept 8 story corrects headline, clarifi...</td>\n",
       "      <td>worldnews</td>\n",
       "      <td>September 8, 2017</td>\n",
       "    </tr>\n",
       "    <tr>\n",
       "      <th>20667</th>\n",
       "      <td>Rohingya say their village is lost to Myanmar'...</td>\n",
       "      <td>(Story refiles to add dropped word  not , in ...</td>\n",
       "      <td>worldnews</td>\n",
       "      <td>September 7, 2017</td>\n",
       "    </tr>\n",
       "    <tr>\n",
       "      <th>21246</th>\n",
       "      <td>'Gates of Hell': Iraqi army says fighting near...</td>\n",
       "      <td>(Story corrects third paragraph to show Mosul...</td>\n",
       "      <td>worldnews</td>\n",
       "      <td>August 29, 2017</td>\n",
       "    </tr>\n",
       "    <tr>\n",
       "      <th>21339</th>\n",
       "      <td>Indian court's privacy ruling is blow to gover...</td>\n",
       "      <td>(Story corrects to fix spelling in paragraph ...</td>\n",
       "      <td>worldnews</td>\n",
       "      <td>August 24, 2017</td>\n",
       "    </tr>\n",
       "  </tbody>\n",
       "</table>\n",
       "<p>222 rows × 4 columns</p>\n",
       "</div>"
      ],
      "text/plain": [
       "                                                   title  ...                 date\n",
       "7      Factbox: Trump on Twitter (Dec 29) - Approval ...  ...   December 29, 2017 \n",
       "8             Trump on Twitter (Dec 28) - Global Warming  ...   December 29, 2017 \n",
       "12     Factbox: Trump on Twitter (Dec 28) - Vanity Fa...  ...   December 28, 2017 \n",
       "13        Trump on Twitter (Dec 27) - Trump, Iraq, Syria  ...   December 28, 2017 \n",
       "14     Man says he delivered manure to Mnuchin to pro...  ...   December 25, 2017 \n",
       "...                                                  ...  ...                  ...\n",
       "20135  China's big money trumps U.S. influence in Cam...  ...  September 11, 2017 \n",
       "20500  UK publisher rejected request to block academi...  ...   September 8, 2017 \n",
       "20667  Rohingya say their village is lost to Myanmar'...  ...   September 7, 2017 \n",
       "21246  'Gates of Hell': Iraqi army says fighting near...  ...     August 29, 2017 \n",
       "21339  Indian court's privacy ruling is blow to gover...  ...     August 24, 2017 \n",
       "\n",
       "[222 rows x 4 columns]"
      ]
     },
     "execution_count": 26,
     "metadata": {},
     "output_type": "execute_result"
    }
   ],
   "source": [
    "real.iloc[unknown_publishers]"
   ]
  },
  {
   "cell_type": "code",
   "execution_count": 27,
   "metadata": {
    "colab": {
     "base_uri": "https://localhost:8080/"
    },
    "executionInfo": {
     "elapsed": 28,
     "status": "ok",
     "timestamp": 1630009558492,
     "user": {
      "displayName": "Aman Singh",
      "photoUrl": "https://lh3.googleusercontent.com/a-/AOh14GgCMG5tAFMLpMbnz0yQD9qGlcZDV7pahu9FRnVHkw=s64",
      "userId": "15069203180863103067"
     },
     "user_tz": -330
    },
    "id": "kPSmQsveH8VV",
    "outputId": "1b3c115f-dee6-4ce9-f167-f5c4312e5ee3"
   },
   "outputs": [
    {
     "data": {
      "text/plain": [
       "title      Graphic: Supreme Court roundup\n",
       "text                                     \n",
       "subject                      politicsNews\n",
       "date                       June 16, 2016 \n",
       "Name: 8970, dtype: object"
      ]
     },
     "execution_count": 27,
     "metadata": {},
     "output_type": "execute_result"
    }
   ],
   "source": [
    "real.iloc[8970]"
   ]
  },
  {
   "cell_type": "code",
   "execution_count": 28,
   "metadata": {
    "colab": {
     "base_uri": "https://localhost:8080/",
     "height": 419
    },
    "executionInfo": {
     "elapsed": 27,
     "status": "ok",
     "timestamp": 1630009558494,
     "user": {
      "displayName": "Aman Singh",
      "photoUrl": "https://lh3.googleusercontent.com/a-/AOh14GgCMG5tAFMLpMbnz0yQD9qGlcZDV7pahu9FRnVHkw=s64",
      "userId": "15069203180863103067"
     },
     "user_tz": -330
    },
    "id": "zs-6UKLsH8bt",
    "outputId": "85f2f7b5-3619-42f2-f58e-481c032b086a"
   },
   "outputs": [
    {
     "data": {
      "text/html": [
       "<div>\n",
       "<style scoped>\n",
       "    .dataframe tbody tr th:only-of-type {\n",
       "        vertical-align: middle;\n",
       "    }\n",
       "\n",
       "    .dataframe tbody tr th {\n",
       "        vertical-align: top;\n",
       "    }\n",
       "\n",
       "    .dataframe thead th {\n",
       "        text-align: right;\n",
       "    }\n",
       "</style>\n",
       "<table border=\"1\" class=\"dataframe\">\n",
       "  <thead>\n",
       "    <tr style=\"text-align: right;\">\n",
       "      <th></th>\n",
       "      <th>title</th>\n",
       "      <th>text</th>\n",
       "      <th>subject</th>\n",
       "      <th>date</th>\n",
       "    </tr>\n",
       "  </thead>\n",
       "  <tbody>\n",
       "    <tr>\n",
       "      <th>0</th>\n",
       "      <td>As U.S. budget fight looms, Republicans flip t...</td>\n",
       "      <td>WASHINGTON (Reuters) - The head of a conservat...</td>\n",
       "      <td>politicsNews</td>\n",
       "      <td>December 31, 2017</td>\n",
       "    </tr>\n",
       "    <tr>\n",
       "      <th>1</th>\n",
       "      <td>U.S. military to accept transgender recruits o...</td>\n",
       "      <td>WASHINGTON (Reuters) - Transgender people will...</td>\n",
       "      <td>politicsNews</td>\n",
       "      <td>December 29, 2017</td>\n",
       "    </tr>\n",
       "    <tr>\n",
       "      <th>2</th>\n",
       "      <td>Senior U.S. Republican senator: 'Let Mr. Muell...</td>\n",
       "      <td>WASHINGTON (Reuters) - The special counsel inv...</td>\n",
       "      <td>politicsNews</td>\n",
       "      <td>December 31, 2017</td>\n",
       "    </tr>\n",
       "    <tr>\n",
       "      <th>3</th>\n",
       "      <td>FBI Russia probe helped by Australian diplomat...</td>\n",
       "      <td>WASHINGTON (Reuters) - Trump campaign adviser ...</td>\n",
       "      <td>politicsNews</td>\n",
       "      <td>December 30, 2017</td>\n",
       "    </tr>\n",
       "    <tr>\n",
       "      <th>4</th>\n",
       "      <td>Trump wants Postal Service to charge 'much mor...</td>\n",
       "      <td>SEATTLE/WASHINGTON (Reuters) - President Donal...</td>\n",
       "      <td>politicsNews</td>\n",
       "      <td>December 29, 2017</td>\n",
       "    </tr>\n",
       "    <tr>\n",
       "      <th>...</th>\n",
       "      <td>...</td>\n",
       "      <td>...</td>\n",
       "      <td>...</td>\n",
       "      <td>...</td>\n",
       "    </tr>\n",
       "    <tr>\n",
       "      <th>21412</th>\n",
       "      <td>'Fully committed' NATO backs new U.S. approach...</td>\n",
       "      <td>BRUSSELS (Reuters) - NATO allies on Tuesday we...</td>\n",
       "      <td>worldnews</td>\n",
       "      <td>August 22, 2017</td>\n",
       "    </tr>\n",
       "    <tr>\n",
       "      <th>21413</th>\n",
       "      <td>LexisNexis withdrew two products from Chinese ...</td>\n",
       "      <td>LONDON (Reuters) - LexisNexis, a provider of l...</td>\n",
       "      <td>worldnews</td>\n",
       "      <td>August 22, 2017</td>\n",
       "    </tr>\n",
       "    <tr>\n",
       "      <th>21414</th>\n",
       "      <td>Minsk cultural hub becomes haven from authorities</td>\n",
       "      <td>MINSK (Reuters) - In the shadow of disused Sov...</td>\n",
       "      <td>worldnews</td>\n",
       "      <td>August 22, 2017</td>\n",
       "    </tr>\n",
       "    <tr>\n",
       "      <th>21415</th>\n",
       "      <td>Vatican upbeat on possibility of Pope Francis ...</td>\n",
       "      <td>MOSCOW (Reuters) - Vatican Secretary of State ...</td>\n",
       "      <td>worldnews</td>\n",
       "      <td>August 22, 2017</td>\n",
       "    </tr>\n",
       "    <tr>\n",
       "      <th>21416</th>\n",
       "      <td>Indonesia to buy $1.14 billion worth of Russia...</td>\n",
       "      <td>JAKARTA (Reuters) - Indonesia will buy 11 Sukh...</td>\n",
       "      <td>worldnews</td>\n",
       "      <td>August 22, 2017</td>\n",
       "    </tr>\n",
       "  </tbody>\n",
       "</table>\n",
       "<p>21416 rows × 4 columns</p>\n",
       "</div>"
      ],
      "text/plain": [
       "                                                   title  ...                date\n",
       "0      As U.S. budget fight looms, Republicans flip t...  ...  December 31, 2017 \n",
       "1      U.S. military to accept transgender recruits o...  ...  December 29, 2017 \n",
       "2      Senior U.S. Republican senator: 'Let Mr. Muell...  ...  December 31, 2017 \n",
       "3      FBI Russia probe helped by Australian diplomat...  ...  December 30, 2017 \n",
       "4      Trump wants Postal Service to charge 'much mor...  ...  December 29, 2017 \n",
       "...                                                  ...  ...                 ...\n",
       "21412  'Fully committed' NATO backs new U.S. approach...  ...    August 22, 2017 \n",
       "21413  LexisNexis withdrew two products from Chinese ...  ...    August 22, 2017 \n",
       "21414  Minsk cultural hub becomes haven from authorities  ...    August 22, 2017 \n",
       "21415  Vatican upbeat on possibility of Pope Francis ...  ...    August 22, 2017 \n",
       "21416  Indonesia to buy $1.14 billion worth of Russia...  ...    August 22, 2017 \n",
       "\n",
       "[21416 rows x 4 columns]"
      ]
     },
     "execution_count": 28,
     "metadata": {},
     "output_type": "execute_result"
    }
   ],
   "source": [
    "real.drop(8970 , axis = 0)"
   ]
  },
  {
   "cell_type": "code",
   "execution_count": 29,
   "metadata": {
    "colab": {
     "base_uri": "https://localhost:8080/"
    },
    "executionInfo": {
     "elapsed": 26,
     "status": "ok",
     "timestamp": 1630009558495,
     "user": {
      "displayName": "Aman Singh",
      "photoUrl": "https://lh3.googleusercontent.com/a-/AOh14GgCMG5tAFMLpMbnz0yQD9qGlcZDV7pahu9FRnVHkw=s64",
      "userId": "15069203180863103067"
     },
     "user_tz": -330
    },
    "id": "jc0Hk1zNH8e0",
    "outputId": "d90d1cad-44c4-4954-eff1-04ef37774702"
   },
   "outputs": [
    {
     "data": {
      "text/plain": [
       "7        The following statements were posted to the ve...\n",
       "8        The following statements were posted to the ve...\n",
       "12       The following statements were posted to the ve...\n",
       "13       The following statements were posted to the ve...\n",
       "14        (In Dec. 25 story, in second paragraph, corre...\n",
       "                               ...                        \n",
       "20135     (Story corrects to million from billion in pa...\n",
       "20500     (This Sept 8 story corrects headline, clarifi...\n",
       "20667     (Story refiles to add dropped word  not , in ...\n",
       "21246     (Story corrects third paragraph to show Mosul...\n",
       "21339     (Story corrects to fix spelling in paragraph ...\n",
       "Name: text, Length: 222, dtype: object"
      ]
     },
     "execution_count": 29,
     "metadata": {},
     "output_type": "execute_result"
    }
   ],
   "source": [
    "real.iloc[unknown_publishers].text"
   ]
  },
  {
   "cell_type": "code",
   "execution_count": 30,
   "metadata": {
    "executionInfo": {
     "elapsed": 679,
     "status": "ok",
     "timestamp": 1630009559151,
     "user": {
      "displayName": "Aman Singh",
      "photoUrl": "https://lh3.googleusercontent.com/a-/AOh14GgCMG5tAFMLpMbnz0yQD9qGlcZDV7pahu9FRnVHkw=s64",
      "userId": "15069203180863103067"
     },
     "user_tz": -330
    },
    "id": "86Avz-yZH8h1"
   },
   "outputs": [],
   "source": [
    "publisher = []\n",
    "tmp_text = []\n",
    "\n",
    "for index, row in enumerate(real.text.values):\n",
    "    if index in unknown_publishers:\n",
    "        tmp_text.append(row)\n",
    "        publisher.append('Unknown')\n",
    "    else:\n",
    "        record = row.split('-' , maxsplit = 1)\n",
    "        publisher.append(record[0].strip())\n",
    "        tmp_text.append(record[1].strip())\n",
    "    "
   ]
  },
  {
   "cell_type": "code",
   "execution_count": 31,
   "metadata": {
    "executionInfo": {
     "elapsed": 17,
     "status": "ok",
     "timestamp": 1630009559152,
     "user": {
      "displayName": "Aman Singh",
      "photoUrl": "https://lh3.googleusercontent.com/a-/AOh14GgCMG5tAFMLpMbnz0yQD9qGlcZDV7pahu9FRnVHkw=s64",
      "userId": "15069203180863103067"
     },
     "user_tz": -330
    },
    "id": "HzBX9uT-H8kl"
   },
   "outputs": [],
   "source": [
    "real['publisher'] = publisher\n",
    "real['text'] = tmp_text"
   ]
  },
  {
   "cell_type": "code",
   "execution_count": 32,
   "metadata": {
    "colab": {
     "base_uri": "https://localhost:8080/",
     "height": 204
    },
    "executionInfo": {
     "elapsed": 17,
     "status": "ok",
     "timestamp": 1630009559153,
     "user": {
      "displayName": "Aman Singh",
      "photoUrl": "https://lh3.googleusercontent.com/a-/AOh14GgCMG5tAFMLpMbnz0yQD9qGlcZDV7pahu9FRnVHkw=s64",
      "userId": "15069203180863103067"
     },
     "user_tz": -330
    },
    "id": "NYtrIL7JH8nN",
    "outputId": "32f3e9ae-0501-47ed-b388-d4e9edc93419"
   },
   "outputs": [
    {
     "data": {
      "text/html": [
       "<div>\n",
       "<style scoped>\n",
       "    .dataframe tbody tr th:only-of-type {\n",
       "        vertical-align: middle;\n",
       "    }\n",
       "\n",
       "    .dataframe tbody tr th {\n",
       "        vertical-align: top;\n",
       "    }\n",
       "\n",
       "    .dataframe thead th {\n",
       "        text-align: right;\n",
       "    }\n",
       "</style>\n",
       "<table border=\"1\" class=\"dataframe\">\n",
       "  <thead>\n",
       "    <tr style=\"text-align: right;\">\n",
       "      <th></th>\n",
       "      <th>title</th>\n",
       "      <th>text</th>\n",
       "      <th>subject</th>\n",
       "      <th>date</th>\n",
       "      <th>publisher</th>\n",
       "    </tr>\n",
       "  </thead>\n",
       "  <tbody>\n",
       "    <tr>\n",
       "      <th>0</th>\n",
       "      <td>As U.S. budget fight looms, Republicans flip t...</td>\n",
       "      <td>The head of a conservative Republican faction ...</td>\n",
       "      <td>politicsNews</td>\n",
       "      <td>December 31, 2017</td>\n",
       "      <td>WASHINGTON (Reuters)</td>\n",
       "    </tr>\n",
       "    <tr>\n",
       "      <th>1</th>\n",
       "      <td>U.S. military to accept transgender recruits o...</td>\n",
       "      <td>Transgender people will be allowed for the fir...</td>\n",
       "      <td>politicsNews</td>\n",
       "      <td>December 29, 2017</td>\n",
       "      <td>WASHINGTON (Reuters)</td>\n",
       "    </tr>\n",
       "    <tr>\n",
       "      <th>2</th>\n",
       "      <td>Senior U.S. Republican senator: 'Let Mr. Muell...</td>\n",
       "      <td>The special counsel investigation of links bet...</td>\n",
       "      <td>politicsNews</td>\n",
       "      <td>December 31, 2017</td>\n",
       "      <td>WASHINGTON (Reuters)</td>\n",
       "    </tr>\n",
       "    <tr>\n",
       "      <th>3</th>\n",
       "      <td>FBI Russia probe helped by Australian diplomat...</td>\n",
       "      <td>Trump campaign adviser George Papadopoulos tol...</td>\n",
       "      <td>politicsNews</td>\n",
       "      <td>December 30, 2017</td>\n",
       "      <td>WASHINGTON (Reuters)</td>\n",
       "    </tr>\n",
       "    <tr>\n",
       "      <th>4</th>\n",
       "      <td>Trump wants Postal Service to charge 'much mor...</td>\n",
       "      <td>President Donald Trump called on the U.S. Post...</td>\n",
       "      <td>politicsNews</td>\n",
       "      <td>December 29, 2017</td>\n",
       "      <td>SEATTLE/WASHINGTON (Reuters)</td>\n",
       "    </tr>\n",
       "  </tbody>\n",
       "</table>\n",
       "</div>"
      ],
      "text/plain": [
       "                                               title  ...                     publisher\n",
       "0  As U.S. budget fight looms, Republicans flip t...  ...          WASHINGTON (Reuters)\n",
       "1  U.S. military to accept transgender recruits o...  ...          WASHINGTON (Reuters)\n",
       "2  Senior U.S. Republican senator: 'Let Mr. Muell...  ...          WASHINGTON (Reuters)\n",
       "3  FBI Russia probe helped by Australian diplomat...  ...          WASHINGTON (Reuters)\n",
       "4  Trump wants Postal Service to charge 'much mor...  ...  SEATTLE/WASHINGTON (Reuters)\n",
       "\n",
       "[5 rows x 5 columns]"
      ]
     },
     "execution_count": 32,
     "metadata": {},
     "output_type": "execute_result"
    }
   ],
   "source": [
    "real.head()"
   ]
  },
  {
   "cell_type": "code",
   "execution_count": 33,
   "metadata": {
    "executionInfo": {
     "elapsed": 16,
     "status": "ok",
     "timestamp": 1630009559153,
     "user": {
      "displayName": "Aman Singh",
      "photoUrl": "https://lh3.googleusercontent.com/a-/AOh14GgCMG5tAFMLpMbnz0yQD9qGlcZDV7pahu9FRnVHkw=s64",
      "userId": "15069203180863103067"
     },
     "user_tz": -330
    },
    "id": "DRf33ggDH8p1"
   },
   "outputs": [],
   "source": [
    "empty_fake_index = [index for index,text in enumerate(fake.text.tolist()) if str(text).strip() == \"\"]"
   ]
  },
  {
   "cell_type": "code",
   "execution_count": 34,
   "metadata": {
    "colab": {
     "base_uri": "https://localhost:8080/",
     "height": 419
    },
    "executionInfo": {
     "elapsed": 16,
     "status": "ok",
     "timestamp": 1630009559153,
     "user": {
      "displayName": "Aman Singh",
      "photoUrl": "https://lh3.googleusercontent.com/a-/AOh14GgCMG5tAFMLpMbnz0yQD9qGlcZDV7pahu9FRnVHkw=s64",
      "userId": "15069203180863103067"
     },
     "user_tz": -330
    },
    "id": "FFXI2shqH8ss",
    "outputId": "caf0f1df-ed82-474c-dffe-6d1b231b57d1"
   },
   "outputs": [
    {
     "data": {
      "text/html": [
       "<div>\n",
       "<style scoped>\n",
       "    .dataframe tbody tr th:only-of-type {\n",
       "        vertical-align: middle;\n",
       "    }\n",
       "\n",
       "    .dataframe tbody tr th {\n",
       "        vertical-align: top;\n",
       "    }\n",
       "\n",
       "    .dataframe thead th {\n",
       "        text-align: right;\n",
       "    }\n",
       "</style>\n",
       "<table border=\"1\" class=\"dataframe\">\n",
       "  <thead>\n",
       "    <tr style=\"text-align: right;\">\n",
       "      <th></th>\n",
       "      <th>title</th>\n",
       "      <th>text</th>\n",
       "      <th>subject</th>\n",
       "      <th>date</th>\n",
       "    </tr>\n",
       "  </thead>\n",
       "  <tbody>\n",
       "    <tr>\n",
       "      <th>10923</th>\n",
       "      <td>TAKE OUR POLL: Who Do You Think President Trum...</td>\n",
       "      <td></td>\n",
       "      <td>politics</td>\n",
       "      <td>May 10, 2017</td>\n",
       "    </tr>\n",
       "    <tr>\n",
       "      <th>11041</th>\n",
       "      <td>Joe Scarborough BERATES Mika Brzezinski Over “...</td>\n",
       "      <td></td>\n",
       "      <td>politics</td>\n",
       "      <td>Apr 26, 2017</td>\n",
       "    </tr>\n",
       "    <tr>\n",
       "      <th>11190</th>\n",
       "      <td>WATCH TUCKER CARLSON Scorch Sanctuary City May...</td>\n",
       "      <td></td>\n",
       "      <td>politics</td>\n",
       "      <td>Apr 6, 2017</td>\n",
       "    </tr>\n",
       "    <tr>\n",
       "      <th>11225</th>\n",
       "      <td>MAYOR OF SANCTUARY CITY: Trump Trying To Make ...</td>\n",
       "      <td></td>\n",
       "      <td>politics</td>\n",
       "      <td>Apr 2, 2017</td>\n",
       "    </tr>\n",
       "    <tr>\n",
       "      <th>11236</th>\n",
       "      <td>SHOCKER: Public School Turns Computer Lab Into...</td>\n",
       "      <td></td>\n",
       "      <td>politics</td>\n",
       "      <td>Apr 1, 2017</td>\n",
       "    </tr>\n",
       "    <tr>\n",
       "      <th>...</th>\n",
       "      <td>...</td>\n",
       "      <td>...</td>\n",
       "      <td>...</td>\n",
       "      <td>...</td>\n",
       "    </tr>\n",
       "    <tr>\n",
       "      <th>21816</th>\n",
       "      <td>BALTIMORE BURNS: MARYLAND GOVERNOR BRINGS IN N...</td>\n",
       "      <td></td>\n",
       "      <td>left-news</td>\n",
       "      <td>Apr 27, 2015</td>\n",
       "    </tr>\n",
       "    <tr>\n",
       "      <th>21826</th>\n",
       "      <td>FULL VIDEO: THE BLOCKBUSTER INVESTIGATION INTO...</td>\n",
       "      <td></td>\n",
       "      <td>left-news</td>\n",
       "      <td>Apr 25, 2015</td>\n",
       "    </tr>\n",
       "    <tr>\n",
       "      <th>21827</th>\n",
       "      <td>(VIDEO) HILLARY CLINTON: RELIGIOUS BELIEFS MUS...</td>\n",
       "      <td></td>\n",
       "      <td>left-news</td>\n",
       "      <td>Apr 25, 2015</td>\n",
       "    </tr>\n",
       "    <tr>\n",
       "      <th>21857</th>\n",
       "      <td>(VIDEO)ICE PROTECTING OBAMA: WON’T RELEASE NAM...</td>\n",
       "      <td></td>\n",
       "      <td>left-news</td>\n",
       "      <td>Apr 14, 2015</td>\n",
       "    </tr>\n",
       "    <tr>\n",
       "      <th>21873</th>\n",
       "      <td>(VIDEO) HYSTERICAL SNL TAKE ON HILLARY’S ANNOU...</td>\n",
       "      <td></td>\n",
       "      <td>left-news</td>\n",
       "      <td>Apr 12, 2015</td>\n",
       "    </tr>\n",
       "  </tbody>\n",
       "</table>\n",
       "<p>630 rows × 4 columns</p>\n",
       "</div>"
      ],
      "text/plain": [
       "                                                   title  ...          date\n",
       "10923  TAKE OUR POLL: Who Do You Think President Trum...  ...  May 10, 2017\n",
       "11041  Joe Scarborough BERATES Mika Brzezinski Over “...  ...  Apr 26, 2017\n",
       "11190  WATCH TUCKER CARLSON Scorch Sanctuary City May...  ...   Apr 6, 2017\n",
       "11225  MAYOR OF SANCTUARY CITY: Trump Trying To Make ...  ...   Apr 2, 2017\n",
       "11236  SHOCKER: Public School Turns Computer Lab Into...  ...   Apr 1, 2017\n",
       "...                                                  ...  ...           ...\n",
       "21816  BALTIMORE BURNS: MARYLAND GOVERNOR BRINGS IN N...  ...  Apr 27, 2015\n",
       "21826  FULL VIDEO: THE BLOCKBUSTER INVESTIGATION INTO...  ...  Apr 25, 2015\n",
       "21827  (VIDEO) HILLARY CLINTON: RELIGIOUS BELIEFS MUS...  ...  Apr 25, 2015\n",
       "21857  (VIDEO)ICE PROTECTING OBAMA: WON’T RELEASE NAM...  ...  Apr 14, 2015\n",
       "21873  (VIDEO) HYSTERICAL SNL TAKE ON HILLARY’S ANNOU...  ...  Apr 12, 2015\n",
       "\n",
       "[630 rows x 4 columns]"
      ]
     },
     "execution_count": 34,
     "metadata": {},
     "output_type": "execute_result"
    }
   ],
   "source": [
    "fake.iloc[empty_fake_index]"
   ]
  },
  {
   "cell_type": "code",
   "execution_count": 35,
   "metadata": {
    "executionInfo": {
     "elapsed": 16,
     "status": "ok",
     "timestamp": 1630009559154,
     "user": {
      "displayName": "Aman Singh",
      "photoUrl": "https://lh3.googleusercontent.com/a-/AOh14GgCMG5tAFMLpMbnz0yQD9qGlcZDV7pahu9FRnVHkw=s64",
      "userId": "15069203180863103067"
     },
     "user_tz": -330
    },
    "id": "At5GKKq_H8yD"
   },
   "outputs": [],
   "source": [
    "real['text'] = real['title'] + \" \" + real['text']\n",
    "fake['text'] = fake['title'] + \" \" + fake['text']"
   ]
  },
  {
   "cell_type": "code",
   "execution_count": 36,
   "metadata": {
    "executionInfo": {
     "elapsed": 17,
     "status": "ok",
     "timestamp": 1630009559155,
     "user": {
      "displayName": "Aman Singh",
      "photoUrl": "https://lh3.googleusercontent.com/a-/AOh14GgCMG5tAFMLpMbnz0yQD9qGlcZDV7pahu9FRnVHkw=s64",
      "userId": "15069203180863103067"
     },
     "user_tz": -330
    },
    "id": "wPU-7NrKH80U"
   },
   "outputs": [],
   "source": [
    "real['text'] = real['text'].apply(lambda x: str(x).lower())\n",
    "fake['text'] = fake['text'].apply(lambda x: str(x).lower())"
   ]
  },
  {
   "cell_type": "markdown",
   "metadata": {},
   "source": [
    "### Preprocessing Text"
   ]
  },
  {
   "cell_type": "code",
   "execution_count": 37,
   "metadata": {
    "executionInfo": {
     "elapsed": 17,
     "status": "ok",
     "timestamp": 1630009559156,
     "user": {
      "displayName": "Aman Singh",
      "photoUrl": "https://lh3.googleusercontent.com/a-/AOh14GgCMG5tAFMLpMbnz0yQD9qGlcZDV7pahu9FRnVHkw=s64",
      "userId": "15069203180863103067"
     },
     "user_tz": -330
    },
    "id": "A3Ezhy6pH83e"
   },
   "outputs": [],
   "source": [
    "real['class'] = 1\n",
    "fake['class'] = 0"
   ]
  },
  {
   "cell_type": "code",
   "execution_count": 38,
   "metadata": {
    "colab": {
     "base_uri": "https://localhost:8080/"
    },
    "executionInfo": {
     "elapsed": 17,
     "status": "ok",
     "timestamp": 1630009559156,
     "user": {
      "displayName": "Aman Singh",
      "photoUrl": "https://lh3.googleusercontent.com/a-/AOh14GgCMG5tAFMLpMbnz0yQD9qGlcZDV7pahu9FRnVHkw=s64",
      "userId": "15069203180863103067"
     },
     "user_tz": -330
    },
    "id": "X50FUjZTIaMg",
    "outputId": "008556b7-5b7b-4c4d-fff4-16fc5e669df4"
   },
   "outputs": [
    {
     "name": "stdout",
     "output_type": "stream",
     "text": [
      "Index(['title', 'text', 'subject', 'date', 'publisher', 'class'], dtype='object')\n",
      "Index(['title', 'text', 'subject', 'date', 'class'], dtype='object')\n"
     ]
    }
   ],
   "source": [
    "print(real.columns)\n",
    "print(fake.columns)"
   ]
  },
  {
   "cell_type": "code",
   "execution_count": 39,
   "metadata": {
    "executionInfo": {
     "elapsed": 15,
     "status": "ok",
     "timestamp": 1630009559157,
     "user": {
      "displayName": "Aman Singh",
      "photoUrl": "https://lh3.googleusercontent.com/a-/AOh14GgCMG5tAFMLpMbnz0yQD9qGlcZDV7pahu9FRnVHkw=s64",
      "userId": "15069203180863103067"
     },
     "user_tz": -330
    },
    "id": "rqhruapAIaPG"
   },
   "outputs": [],
   "source": [
    "real = real[['text' , 'class']]\n",
    "fake = fake[['text' , 'class']]"
   ]
  },
  {
   "cell_type": "markdown",
   "metadata": {},
   "source": [
    "### Combining File\n",
    "    data = (real/true news data) + (fake news)"
   ]
  },
  {
   "cell_type": "code",
   "execution_count": 40,
   "metadata": {
    "colab": {
     "base_uri": "https://localhost:8080/",
     "height": 419
    },
    "executionInfo": {
     "elapsed": 17,
     "status": "ok",
     "timestamp": 1630009559157,
     "user": {
      "displayName": "Aman Singh",
      "photoUrl": "https://lh3.googleusercontent.com/a-/AOh14GgCMG5tAFMLpMbnz0yQD9qGlcZDV7pahu9FRnVHkw=s64",
      "userId": "15069203180863103067"
     },
     "user_tz": -330
    },
    "id": "aCSDx8S-IaR9",
    "outputId": "d76a0ac9-e52e-4b97-cbcd-2c11fe8ed4ac"
   },
   "outputs": [
    {
     "data": {
      "text/html": [
       "<div>\n",
       "<style scoped>\n",
       "    .dataframe tbody tr th:only-of-type {\n",
       "        vertical-align: middle;\n",
       "    }\n",
       "\n",
       "    .dataframe tbody tr th {\n",
       "        vertical-align: top;\n",
       "    }\n",
       "\n",
       "    .dataframe thead th {\n",
       "        text-align: right;\n",
       "    }\n",
       "</style>\n",
       "<table border=\"1\" class=\"dataframe\">\n",
       "  <thead>\n",
       "    <tr style=\"text-align: right;\">\n",
       "      <th></th>\n",
       "      <th>text</th>\n",
       "      <th>class</th>\n",
       "    </tr>\n",
       "  </thead>\n",
       "  <tbody>\n",
       "    <tr>\n",
       "      <th>0</th>\n",
       "      <td>as u.s. budget fight looms, republicans flip t...</td>\n",
       "      <td>1</td>\n",
       "    </tr>\n",
       "    <tr>\n",
       "      <th>1</th>\n",
       "      <td>u.s. military to accept transgender recruits o...</td>\n",
       "      <td>1</td>\n",
       "    </tr>\n",
       "    <tr>\n",
       "      <th>2</th>\n",
       "      <td>senior u.s. republican senator: 'let mr. muell...</td>\n",
       "      <td>1</td>\n",
       "    </tr>\n",
       "    <tr>\n",
       "      <th>3</th>\n",
       "      <td>fbi russia probe helped by australian diplomat...</td>\n",
       "      <td>1</td>\n",
       "    </tr>\n",
       "    <tr>\n",
       "      <th>4</th>\n",
       "      <td>trump wants postal service to charge 'much mor...</td>\n",
       "      <td>1</td>\n",
       "    </tr>\n",
       "    <tr>\n",
       "      <th>...</th>\n",
       "      <td>...</td>\n",
       "      <td>...</td>\n",
       "    </tr>\n",
       "    <tr>\n",
       "      <th>44893</th>\n",
       "      <td>mcpain: john mccain furious that iran treated ...</td>\n",
       "      <td>0</td>\n",
       "    </tr>\n",
       "    <tr>\n",
       "      <th>44894</th>\n",
       "      <td>justice? yahoo settles e-mail privacy class-ac...</td>\n",
       "      <td>0</td>\n",
       "    </tr>\n",
       "    <tr>\n",
       "      <th>44895</th>\n",
       "      <td>sunnistan: us and allied ‘safe zone’ plan to t...</td>\n",
       "      <td>0</td>\n",
       "    </tr>\n",
       "    <tr>\n",
       "      <th>44896</th>\n",
       "      <td>how to blow $700 million: al jazeera america f...</td>\n",
       "      <td>0</td>\n",
       "    </tr>\n",
       "    <tr>\n",
       "      <th>44897</th>\n",
       "      <td>10 u.s. navy sailors held by iranian military ...</td>\n",
       "      <td>0</td>\n",
       "    </tr>\n",
       "  </tbody>\n",
       "</table>\n",
       "<p>44898 rows × 2 columns</p>\n",
       "</div>"
      ],
      "text/plain": [
       "                                                    text  class\n",
       "0      as u.s. budget fight looms, republicans flip t...      1\n",
       "1      u.s. military to accept transgender recruits o...      1\n",
       "2      senior u.s. republican senator: 'let mr. muell...      1\n",
       "3      fbi russia probe helped by australian diplomat...      1\n",
       "4      trump wants postal service to charge 'much mor...      1\n",
       "...                                                  ...    ...\n",
       "44893  mcpain: john mccain furious that iran treated ...      0\n",
       "44894  justice? yahoo settles e-mail privacy class-ac...      0\n",
       "44895  sunnistan: us and allied ‘safe zone’ plan to t...      0\n",
       "44896  how to blow $700 million: al jazeera america f...      0\n",
       "44897  10 u.s. navy sailors held by iranian military ...      0\n",
       "\n",
       "[44898 rows x 2 columns]"
      ]
     },
     "execution_count": 40,
     "metadata": {},
     "output_type": "execute_result"
    }
   ],
   "source": [
    "data = real.append(fake, ignore_index = True)\n",
    "data"
   ]
  },
  {
   "cell_type": "markdown",
   "metadata": {},
   "source": [
    "### Shuffling Combined data"
   ]
  },
  {
   "cell_type": "code",
   "execution_count": 41,
   "metadata": {
    "colab": {
     "base_uri": "https://localhost:8080/",
     "height": 419
    },
    "executionInfo": {
     "elapsed": 16,
     "status": "ok",
     "timestamp": 1630009559159,
     "user": {
      "displayName": "Aman Singh",
      "photoUrl": "https://lh3.googleusercontent.com/a-/AOh14GgCMG5tAFMLpMbnz0yQD9qGlcZDV7pahu9FRnVHkw=s64",
      "userId": "15069203180863103067"
     },
     "user_tz": -330
    },
    "id": "UZ5ZvfTWIaUG",
    "outputId": "d8efc0b8-c9a4-4298-8057-23e150da8aa8"
   },
   "outputs": [
    {
     "data": {
      "text/html": [
       "<div>\n",
       "<style scoped>\n",
       "    .dataframe tbody tr th:only-of-type {\n",
       "        vertical-align: middle;\n",
       "    }\n",
       "\n",
       "    .dataframe tbody tr th {\n",
       "        vertical-align: top;\n",
       "    }\n",
       "\n",
       "    .dataframe thead th {\n",
       "        text-align: right;\n",
       "    }\n",
       "</style>\n",
       "<table border=\"1\" class=\"dataframe\">\n",
       "  <thead>\n",
       "    <tr style=\"text-align: right;\">\n",
       "      <th></th>\n",
       "      <th>text</th>\n",
       "      <th>class</th>\n",
       "    </tr>\n",
       "  </thead>\n",
       "  <tbody>\n",
       "    <tr>\n",
       "      <th>22216</th>\n",
       "      <td>breaking: gop chairman grassley has had enoug...</td>\n",
       "      <td>0</td>\n",
       "    </tr>\n",
       "    <tr>\n",
       "      <th>27917</th>\n",
       "      <td>failed gop candidates remembered in hilarious...</td>\n",
       "      <td>0</td>\n",
       "    </tr>\n",
       "    <tr>\n",
       "      <th>25007</th>\n",
       "      <td>mike pence’s new dc neighbors are hilariously...</td>\n",
       "      <td>0</td>\n",
       "    </tr>\n",
       "    <tr>\n",
       "      <th>1377</th>\n",
       "      <td>california ag pledges to defend birth control ...</td>\n",
       "      <td>1</td>\n",
       "    </tr>\n",
       "    <tr>\n",
       "      <th>32476</th>\n",
       "      <td>az ranchers living on us-mexico border destroy...</td>\n",
       "      <td>0</td>\n",
       "    </tr>\n",
       "    <tr>\n",
       "      <th>...</th>\n",
       "      <td>...</td>\n",
       "      <td>...</td>\n",
       "    </tr>\n",
       "    <tr>\n",
       "      <th>11284</th>\n",
       "      <td>nigeria says u.s. agrees delayed $593 million ...</td>\n",
       "      <td>1</td>\n",
       "    </tr>\n",
       "    <tr>\n",
       "      <th>44732</th>\n",
       "      <td>boiler room #62 – fatal illusions tune in to t...</td>\n",
       "      <td>0</td>\n",
       "    </tr>\n",
       "    <tr>\n",
       "      <th>38158</th>\n",
       "      <td>atheists sue governor of texas over display on...</td>\n",
       "      <td>0</td>\n",
       "    </tr>\n",
       "    <tr>\n",
       "      <th>860</th>\n",
       "      <td>republican tax plan would deal financial hit t...</td>\n",
       "      <td>1</td>\n",
       "    </tr>\n",
       "    <tr>\n",
       "      <th>15795</th>\n",
       "      <td>u.n. refugee commissioner says australia must ...</td>\n",
       "      <td>1</td>\n",
       "    </tr>\n",
       "  </tbody>\n",
       "</table>\n",
       "<p>44898 rows × 2 columns</p>\n",
       "</div>"
      ],
      "text/plain": [
       "                                                    text  class\n",
       "22216   breaking: gop chairman grassley has had enoug...      0\n",
       "27917   failed gop candidates remembered in hilarious...      0\n",
       "25007   mike pence’s new dc neighbors are hilariously...      0\n",
       "1377   california ag pledges to defend birth control ...      1\n",
       "32476  az ranchers living on us-mexico border destroy...      0\n",
       "...                                                  ...    ...\n",
       "11284  nigeria says u.s. agrees delayed $593 million ...      1\n",
       "44732  boiler room #62 – fatal illusions tune in to t...      0\n",
       "38158  atheists sue governor of texas over display on...      0\n",
       "860    republican tax plan would deal financial hit t...      1\n",
       "15795  u.n. refugee commissioner says australia must ...      1\n",
       "\n",
       "[44898 rows x 2 columns]"
      ]
     },
     "execution_count": 41,
     "metadata": {},
     "output_type": "execute_result"
    }
   ],
   "source": [
    "data = data.sample(frac = 1 , random_state=42)\n",
    "data"
   ]
  },
  {
   "cell_type": "code",
   "execution_count": null,
   "metadata": {
    "id": "Em5kRCv3IaYx"
   },
   "outputs": [],
   "source": [
    "#!pip install git+https://github.com/laxmimerit/preprocess_kgptalkie.git --upgrade --force-reinstall"
   ]
  },
  {
   "cell_type": "code",
   "execution_count": 43,
   "metadata": {
    "executionInfo": {
     "elapsed": 3751,
     "status": "ok",
     "timestamp": 1630010190482,
     "user": {
      "displayName": "Aman Singh",
      "photoUrl": "https://lh3.googleusercontent.com/a-/AOh14GgCMG5tAFMLpMbnz0yQD9qGlcZDV7pahu9FRnVHkw=s64",
      "userId": "15069203180863103067"
     },
     "user_tz": -330
    },
    "id": "WIQFWBqHIaWV"
   },
   "outputs": [],
   "source": [
    "import preprocess_kgptalkie as ps"
   ]
  },
  {
   "cell_type": "code",
   "execution_count": 44,
   "metadata": {
    "executionInfo": {
     "elapsed": 5390,
     "status": "ok",
     "timestamp": 1630010195869,
     "user": {
      "displayName": "Aman Singh",
      "photoUrl": "https://lh3.googleusercontent.com/a-/AOh14GgCMG5tAFMLpMbnz0yQD9qGlcZDV7pahu9FRnVHkw=s64",
      "userId": "15069203180863103067"
     },
     "user_tz": -330
    },
    "id": "PUPFgYaCIabJ"
   },
   "outputs": [],
   "source": [
    "data['text'] = data['text'].apply(lambda x: ps.remove_special_chars(x))"
   ]
  },
  {
   "cell_type": "markdown",
   "metadata": {},
   "source": [
    "### Vectorization : Word2Vec"
   ]
  },
  {
   "cell_type": "code",
   "execution_count": 45,
   "metadata": {
    "colab": {
     "base_uri": "https://localhost:8080/",
     "height": 204
    },
    "executionInfo": {
     "elapsed": 7,
     "status": "ok",
     "timestamp": 1630010195873,
     "user": {
      "displayName": "Aman Singh",
      "photoUrl": "https://lh3.googleusercontent.com/a-/AOh14GgCMG5tAFMLpMbnz0yQD9qGlcZDV7pahu9FRnVHkw=s64",
      "userId": "15069203180863103067"
     },
     "user_tz": -330
    },
    "id": "8-Xg-o6VIadl",
    "outputId": "bcd425ee-e5a1-4a12-c2dc-d084b1154295"
   },
   "outputs": [
    {
     "data": {
      "text/html": [
       "<div>\n",
       "<style scoped>\n",
       "    .dataframe tbody tr th:only-of-type {\n",
       "        vertical-align: middle;\n",
       "    }\n",
       "\n",
       "    .dataframe tbody tr th {\n",
       "        vertical-align: top;\n",
       "    }\n",
       "\n",
       "    .dataframe thead th {\n",
       "        text-align: right;\n",
       "    }\n",
       "</style>\n",
       "<table border=\"1\" class=\"dataframe\">\n",
       "  <thead>\n",
       "    <tr style=\"text-align: right;\">\n",
       "      <th></th>\n",
       "      <th>text</th>\n",
       "      <th>class</th>\n",
       "    </tr>\n",
       "  </thead>\n",
       "  <tbody>\n",
       "    <tr>\n",
       "      <th>22216</th>\n",
       "      <td>breaking gop chairman grassley has had enough ...</td>\n",
       "      <td>0</td>\n",
       "    </tr>\n",
       "    <tr>\n",
       "      <th>27917</th>\n",
       "      <td>failed gop candidates remembered in hilarious ...</td>\n",
       "      <td>0</td>\n",
       "    </tr>\n",
       "    <tr>\n",
       "      <th>25007</th>\n",
       "      <td>mike pences new dc neighbors are hilariously t...</td>\n",
       "      <td>0</td>\n",
       "    </tr>\n",
       "    <tr>\n",
       "      <th>1377</th>\n",
       "      <td>california ag pledges to defend birth control ...</td>\n",
       "      <td>1</td>\n",
       "    </tr>\n",
       "    <tr>\n",
       "      <th>32476</th>\n",
       "      <td>az ranchers living on usmexico border destroy ...</td>\n",
       "      <td>0</td>\n",
       "    </tr>\n",
       "  </tbody>\n",
       "</table>\n",
       "</div>"
      ],
      "text/plain": [
       "                                                    text  class\n",
       "22216  breaking gop chairman grassley has had enough ...      0\n",
       "27917  failed gop candidates remembered in hilarious ...      0\n",
       "25007  mike pences new dc neighbors are hilariously t...      0\n",
       "1377   california ag pledges to defend birth control ...      1\n",
       "32476  az ranchers living on usmexico border destroy ...      0"
      ]
     },
     "execution_count": 45,
     "metadata": {},
     "output_type": "execute_result"
    }
   ],
   "source": [
    "data.head() # word to numerical"
   ]
  },
  {
   "cell_type": "code",
   "execution_count": 46,
   "metadata": {
    "executionInfo": {
     "elapsed": 6,
     "status": "ok",
     "timestamp": 1630010195874,
     "user": {
      "displayName": "Aman Singh",
      "photoUrl": "https://lh3.googleusercontent.com/a-/AOh14GgCMG5tAFMLpMbnz0yQD9qGlcZDV7pahu9FRnVHkw=s64",
      "userId": "15069203180863103067"
     },
     "user_tz": -330
    },
    "id": "pZIcSbqPIagE"
   },
   "outputs": [],
   "source": [
    "import gensim"
   ]
  },
  {
   "cell_type": "code",
   "execution_count": 47,
   "metadata": {
    "executionInfo": {
     "elapsed": 1,
     "status": "ok",
     "timestamp": 1630010196378,
     "user": {
      "displayName": "Aman Singh",
      "photoUrl": "https://lh3.googleusercontent.com/a-/AOh14GgCMG5tAFMLpMbnz0yQD9qGlcZDV7pahu9FRnVHkw=s64",
      "userId": "15069203180863103067"
     },
     "user_tz": -330
    },
    "id": "gsa9PkOxIaim"
   },
   "outputs": [],
   "source": [
    "y = data['class'].values"
   ]
  },
  {
   "cell_type": "code",
   "execution_count": 48,
   "metadata": {
    "colab": {
     "base_uri": "https://localhost:8080/",
     "output_embedded_package_id": "1QULWGRF6tQrdrJy0gcBAowbhUvQZd_kE"
    },
    "executionInfo": {
     "elapsed": 7887,
     "status": "ok",
     "timestamp": 1630010209460,
     "user": {
      "displayName": "Aman Singh",
      "photoUrl": "https://lh3.googleusercontent.com/a-/AOh14GgCMG5tAFMLpMbnz0yQD9qGlcZDV7pahu9FRnVHkw=s64",
      "userId": "15069203180863103067"
     },
     "user_tz": -330
    },
    "id": "-aU8mmHZIal2",
    "outputId": "29e1acaf-c650-4a33-b27c-36e66f4b584e"
   },
   "outputs": [
    {
     "data": {
      "text/plain": [
       "Output hidden; open in https://colab.research.google.com to view."
      ]
     },
     "metadata": {},
     "output_type": "display_data"
    }
   ],
   "source": [
    "X = [d.split() for d in data['text'].tolist()]\n",
    "X"
   ]
  },
  {
   "cell_type": "code",
   "execution_count": 49,
   "metadata": {
    "colab": {
     "base_uri": "https://localhost:8080/"
    },
    "executionInfo": {
     "elapsed": 395,
     "status": "ok",
     "timestamp": 1630010225116,
     "user": {
      "displayName": "Aman Singh",
      "photoUrl": "https://lh3.googleusercontent.com/a-/AOh14GgCMG5tAFMLpMbnz0yQD9qGlcZDV7pahu9FRnVHkw=s64",
      "userId": "15069203180863103067"
     },
     "user_tz": -330
    },
    "id": "MGfetTFIIan3",
    "outputId": "bfb9ddf1-da16-439f-ae2a-f364da4e1047"
   },
   "outputs": [
    {
     "name": "stdout",
     "output_type": "stream",
     "text": [
      "['breaking', 'gop', 'chairman', 'grassley', 'has', 'had', 'enough', 'demands', 'trump', 'jr', 'testimony', 'donald', 'trump', 's', 'white', 'house', 'is', 'in', 'chaos', 'and', 'they', 'are', 'trying', 'to', 'cover', 'it', 'up', 'their', 'russia', 'problems', 'are', 'mounting', 'by', 'the', 'hour', 'and', 'they', 'refuse', 'to', 'acknowledge', 'that', 'there', 'are', 'problems', 'surrounding', 'all', 'of', 'this', 'to', 'them', 'it', 's', 'fake', 'news', 'or', 'a', 'hoax', 'however', 'the', 'facts', 'bear', 'things', 'out', 'differently', 'and', 'it', 'seems', 'that', 'there', 'are', 'now', 'cracks', 'in', 'the', 'congressional', 'public', 'leadershipchuck', 'grassley', 'riowa', 'who', 'heads', 'the', 'senate', 'judiciary', 'committee', 'is', 'fed', 'up', 'he', 'is', 'now', 'demanding', 'that', 'donald', 'trump', 'jr', 'and', 'former', '2016', 'trump', 'campaign', 'manager', 'paul', 'manafort', 'testify', 'before', 'his', 'committee', 'regarding', 'the', 'now', 'infamous', 'shady', 'meeting', 'between', 'donald', 'trump', 'and', 'the', 'shady', 'russian', 'lawyer', 'who', 'promised', 'dirt', 'on', '2016', 'democratic', 'presidential', 'nominee', 'hillary', 'clinton', 'in', 'fact', 'this', 'information', 'is', 'due', 'well', 'now', 'this', 'demand', 'sends', 'a', 'few', 'signals', 'to', 'team', 'trump', 'most', 'notably', 'that', 'they', 'should', 'not', 'fire', 'special', 'counsel', 'robert', 'mueller', 'under', 'any', 'circumstances', 'despite', 'the', 'fact', 'that', 'it', 'seems', 'that', 'this', 'seems', 'to', 'be', 'what', 'trump', 's', 'white', 'house', 'is', 'laying', 'the', 'groundwork', 'so', 'to', 'speak', 'to', 'do', 'as', 'we', 'speakhere', 'is', 'the', 'tweet', 'regarding', 'grassley', 's', 'warningalso', 'anyone', 'who', 'thinks', 'that', 'senator', 'grassley', 'and', 'the', 'rest', 'of', 'the', 'senate', 'are', 'not', 'serious', 'about', 'this', 'only', 'needs', 'to', 'look', 'at', 'the', 'warning', 'that', 'has', 'already', 'been', 'given', 'trump', 'jr', 'and', 'manafort', 'will', 'either', 'follow', 'orders', 'or', 'be', 'served', 'with', 'subpoenas', 'that', 'force', 'them', 'to', 'comply', 'if', 'they', 'refuse', 'they', 'will', 'be', 'held', 'in', 'contempt', 'of', 'congress', 'which', 'carries', 'with', 'it', 'serious', 'jail', 'timeeven', 'the', 'cruel', 'craven', 'creatures', 'within', 'the', 'gop', 'are', 'sick', 'of', 'donald', 'trump', 's', 'corruption', 'and', 'his', 'scandalridden', 'white', 'house', 'they', 'are', 'angry', 'that', 'he', 'staged', 'a', 'hostile', 'takeover', 'of', 'their', 'party', 'first', 'with', 'birtherism', 'and', 'giving', 'them', 'a', 'permanently', 'racist', 'label', 'all', 'while', 'decimating', 'all', 'efforts', 'that', 'were', 'made', 'to', 'pretend', 'the', 'republican', 'party', 'isn', 't', 'a', 'hotbed', 'of', 'racism', 'and', 'while', 'turning', 'their', 'worlds', 'upside', 'down', 'and', 'with', 'it', 'the', 'nation', 'it', 'seems', 'that', 'oldtimers', 'like', 'grassley', 'who', 'are', 'clearly', 'sick', 'of', 'trump', 's', 'bullshit', 'just', 'might', 'be', 'the', 'ones', 'who', 'could', 'save', 'the', 'republic', 'all', 'they', 'need', 'is', 'a', 'bit', 'of', 'couragefeatured', 'image', 'via', 'win', 'mcnameegetty', 'images']\n",
      "['failed', 'gop', 'candidates', 'remembered', 'in', 'hilarious', 'mocking', 'eulogies', 'video', 'now', 'that', 'donald', 'trump', 'is', 'the', 'presumptive', 'gop', 'nominee', 'it', 's', 'time', 'to', 'remember', 'all', 'those', 'other', 'candidates', 'who', 'tried', 'so', 'hard', 'to', 'beat', 'him', 'in', 'the', 'race', 'to', 'the', 'white', 'house', 'after', 'all', 'how', 'can', 'we', 'forget', 'all', 'the', 'missteps', 'gaffes', 'weirdness', 'and', 'sheer', 'idiocies', 'of', 'such', 'candidates', 'as', 'jeb', 'bush', 'marco', 'rubio', 'john', 'kasich', 'ted', 'cruz', 'ben', 'carson', 'and', 'carly', 'fiorinathere', 's', 'a', 'video', 'making', 'the', 'rounds', 'on', 'twitter', 'that', 'does', 'just', 'that', 'and', 'eulogizes', 'three', 'of', 'these', 'failed', 'candidates', 'as', 'though', 'they', 're', 'dead', 'and', 'the', 'gop', 'itself', 'might', 'as', 'well', 'be', 'dead', 'at', 'this', 'point', 'anyway', 'appropriately', 'titled', 'a', 'eulogy', 'for', 'the', 'gop', 'people', 'make', 'short', 'speeches', 'about', 'each', 'of', 'these', 'candidatesonce', 'past', 'the', 'man', 'who', 'actually', 'says', 'jeb', 'bush', 'was', 'qualified', 'to', 'be', 'president', 'there', 'are', 'fake', 'tears', 'with', 'journalist', 'and', 'comedienne', 'francesca', 'fiorentini', 'saying', 'dearly', 'beloved', 'we', 're', 'gathered', 'here', 'today', 'to', 'commemorate', 'the', 'candidates', 'that', 'are', 'no', 'longer', 'with', 'us', 'one', 'man', 'speaking', 'to', 'an', 'amusing', 'circusy', 'rendition', 'of', 'chopin', 's', 'funeral', 'march', 'remembers', 'jeb', 'this', 'way', 'jeb', 'we', 'hardly', 'knew', 'ye', 'it', 's', 'too', 'bad', 'that', 'your', 'policies', 'couldn', 't', 'find', 'their', 'way', 'out', 'of', 'the', 'republican', 'morass', 'indeed', 'it', 'was', 'like', 'jeb', 'and', 'his', 'policies', 'were', 'invisible', 'sometimes', 'although', 'many', 'felt', 'that', 'he', 'would', 'win', 'the', 'nomination', 'early', 'on', 'his', 'best', 'performances', 'often', 'came', 'during', 'debates', 'when', 'he', 'd', 'get', 'into', 'outandout', 'fights', 'with', 'donald', 'trump', 'over', 'virtually', 'everything', 'under', 'the', 'sun', 'he', 'also', 'had', 'a', 'bad', 'habit', 'of', 'defending', 'his', 'brother', 's', 'actions', 'in', 'iraq', 'memorably', 'saying', 'as', 'it', 'relates', 'to', 'my', 'brother', 'there', 's', 'one', 'thing', 'i', 'know', 'for', 'sure', 'he', 'kept', 'us', 'safe', 'moving', 'on', 'to', 'marco', 'rubio', 'fiorentini', 'herself', 'says', 'he', 'was', 'called', 'so', 'many', 'things', 'young', 'charming', 'lil', 'marco', 'that', 'last', 'nickname', 'is', 'of', 'course', 'a', 'reference', 'to', 'trump', 's', 'penchant', 'for', 'namecalling', 'then', 'a', 'man', 'speaking', 'spanish', 'remembers', 'rubio', 'this', 'way', 'marco', 'why', 'aren', 't', 'you', 'a', 'normal', 'boy', 'another', 'said', 'that', 'his', 'involvement', 'in', 'the', 'gang', 'of', 'eight', 'immigration', 'bill', 'killed', 'him', 'as', 'a', 'candidate', 'to', 'which', 'fiorentini', 'replies', 'some', 'people', 'die', 'of', 'gang', 'violence', 'he', 'died', 'of', 'gang', 'of', 'eight', 'violence', 'the', 'makers', 'of', 'this', 'video', 'saved', 'the', 'absolute', 'best', 'for', 'last', 'of', 'course', 'which', 'is', 'ben', 'carson', 'on', 'our', 'dear', 'dr', 'carson', 'one', 'of', 'the', 'speakers', 'says', 'he', 'would', 'gently', 'rock', 'me', 'to', 'sleep', 'with', 'his', 'monotone', 'voice', 'carson', 'was', 'especially', 'well', 'known', 'for', 'seemingly', 'being', 'asleep', 'half', 'the', 'time', 'if', 'we', 'saw', 'his', 'eyes', 'open', 'wide', 'it', 'was', 'surprising', 'and', 'likely', 'because', 'he', 'was', 'surprised', 'himself', 'his', 'voice', 'is', 'soft', 'his', 'speech', 'is', 'slow', 'and', 'it', 'really', 'can', 'be', 'hard', 'to', 'stay', 'awake', 'while', 'he', 's', 'talking', 'imagine', 'him', 'giving', 'a', 'state', 'of', 'the', 'union', 'addressto', 'see', 'the', 'whole', 'video', 'especially', 'the', 'spectacular', 'ending', 'after', 'carson', 's', 'eulogy', 'watch', 'belowtake', 'a', 'moment', 'to', 'say', 'your', 'g', 'byes', 'to', 'these', 'gop', 'candidates', 'httpstco6o70bl9zv8', 'aj', 'ajplus', 'may', '7', '2016', 'featured', 'image', 'via', 'screen', 'capture', 'from', 'embedded', 'video']\n",
      "<class 'list'>\n",
      "<class 'list'>\n"
     ]
    }
   ],
   "source": [
    "print(X[0])\n",
    "print(X[1])\n",
    "print(type(X))\n",
    "print(type(X[0]))"
   ]
  },
  {
   "cell_type": "code",
   "execution_count": 51,
   "metadata": {
    "executionInfo": {
     "elapsed": 180762,
     "status": "ok",
     "timestamp": 1630010902076,
     "user": {
      "displayName": "Aman Singh",
      "photoUrl": "https://lh3.googleusercontent.com/a-/AOh14GgCMG5tAFMLpMbnz0yQD9qGlcZDV7pahu9FRnVHkw=s64",
      "userId": "15069203180863103067"
     },
     "user_tz": -330
    },
    "id": "VPeOKuVRIaqO"
   },
   "outputs": [],
   "source": [
    "DIM = 100 # word converted in sequence of 100 vector\n",
    "w2v_model = gensim.models.Word2Vec(sentences = X , size=DIM , window=10 , min_count = 1)"
   ]
  },
  {
   "cell_type": "code",
   "execution_count": 52,
   "metadata": {
    "colab": {
     "base_uri": "https://localhost:8080/"
    },
    "executionInfo": {
     "elapsed": 768,
     "status": "ok",
     "timestamp": 1630010904271,
     "user": {
      "displayName": "Aman Singh",
      "photoUrl": "https://lh3.googleusercontent.com/a-/AOh14GgCMG5tAFMLpMbnz0yQD9qGlcZDV7pahu9FRnVHkw=s64",
      "userId": "15069203180863103067"
     },
     "user_tz": -330
    },
    "id": "5dFdFlexIas1",
    "outputId": "422d7056-bdc5-4ae3-eed7-950f864df790"
   },
   "outputs": [
    {
     "data": {
      "text/plain": [
       "(231911, 100)"
      ]
     },
     "execution_count": 52,
     "metadata": {},
     "output_type": "execute_result"
    }
   ],
   "source": [
    "w2v_model.wv.vectors.shape"
   ]
  },
  {
   "cell_type": "code",
   "execution_count": 53,
   "metadata": {
    "colab": {
     "base_uri": "https://localhost:8080/"
    },
    "executionInfo": {
     "elapsed": 14,
     "status": "ok",
     "timestamp": 1630010904272,
     "user": {
      "displayName": "Aman Singh",
      "photoUrl": "https://lh3.googleusercontent.com/a-/AOh14GgCMG5tAFMLpMbnz0yQD9qGlcZDV7pahu9FRnVHkw=s64",
      "userId": "15069203180863103067"
     },
     "user_tz": -330
    },
    "id": "To3D7TZHIavV",
    "outputId": "c70a91c8-deea-45eb-ab6e-af0fc6537900"
   },
   "outputs": [
    {
     "data": {
      "text/plain": [
       "array([-1.6287324 ,  3.3060625 ,  0.48185253,  0.34447178, -1.0390452 ,\n",
       "       -0.56735146,  0.5444069 , -2.0215268 ,  1.5874214 ,  5.1161575 ,\n",
       "       -0.18891928, -1.3638048 ,  0.85369563,  2.689768  , -0.7508993 ,\n",
       "       -0.04761927,  2.6400719 ,  1.9160482 , -5.600419  , -1.7517256 ,\n",
       "        2.7624755 ,  2.1676912 , -3.2073765 ,  1.3874512 ,  3.8797197 ,\n",
       "        4.5142074 , -0.5066413 , -1.121247  ,  0.50160074,  0.37167126,\n",
       "        2.0313091 ,  1.0885359 , -1.8752793 ,  1.7399834 ,  2.4694164 ,\n",
       "        3.7111344 ,  0.70479983, -2.8814895 ,  1.8965875 , -1.2171471 ,\n",
       "        1.3142829 , -2.1845965 , -2.1942692 , -0.41868988,  1.2732835 ,\n",
       "       -0.25956988,  1.2550305 ,  0.07360248,  0.7364301 ,  4.64169   ,\n",
       "       -0.8119735 ,  0.7240306 , -2.5329921 ,  2.9129694 , -3.2583187 ,\n",
       "       -1.0963681 , -3.14511   ,  0.10456236,  2.9095163 ,  2.0882428 ,\n",
       "        1.0405103 ,  1.4409609 , -0.97996926, -1.6991098 , -0.6002757 ,\n",
       "        0.27272227,  2.2489796 , -0.01466027,  0.97748333, -2.1355538 ,\n",
       "       -2.3990242 ,  3.2356083 , -1.3761581 , -3.6438289 ,  2.381847  ,\n",
       "       -2.7622645 ,  1.6205149 ,  3.9574099 , -0.3266952 , -0.10010824,\n",
       "       -0.57965267,  0.88176155, -1.3377267 , -3.9882526 ,  1.2241989 ,\n",
       "        3.2427812 , -2.1084487 , -2.9976494 ,  2.6304243 , -1.1820385 ,\n",
       "        1.1519969 , -0.6528188 ,  4.6209846 , -1.6839676 ,  0.92232746,\n",
       "       -0.6986713 , -1.5865    , -0.08956269,  1.8902853 , -1.1686593 ],\n",
       "      dtype=float32)"
      ]
     },
     "execution_count": 53,
     "metadata": {},
     "output_type": "execute_result"
    }
   ],
   "source": [
    "w2v_model.wv['love']"
   ]
  },
  {
   "cell_type": "code",
   "execution_count": 54,
   "metadata": {
    "colab": {
     "base_uri": "https://localhost:8080/"
    },
    "executionInfo": {
     "elapsed": 11,
     "status": "ok",
     "timestamp": 1630010904272,
     "user": {
      "displayName": "Aman Singh",
      "photoUrl": "https://lh3.googleusercontent.com/a-/AOh14GgCMG5tAFMLpMbnz0yQD9qGlcZDV7pahu9FRnVHkw=s64",
      "userId": "15069203180863103067"
     },
     "user_tz": -330
    },
    "id": "c3iTSAwQIax2",
    "outputId": "2528cde2-483d-4737-c810-b812a89db7de"
   },
   "outputs": [
    {
     "data": {
      "text/plain": [
       "array([-1.4091146 ,  1.301195  ,  4.073906  , -0.803409  ,  1.2970711 ,\n",
       "       -0.54801947,  2.5167723 , -1.918887  ,  1.2375877 , -1.2657068 ,\n",
       "        1.8622346 , -1.5910822 ,  0.2313657 , -2.936934  , -3.7486792 ,\n",
       "       -0.20712705,  0.66262716, -2.6053593 ,  0.6583481 ,  0.37415323,\n",
       "       -1.2368156 , -2.031231  ,  0.5846004 ,  1.0741286 , -2.7850633 ,\n",
       "        1.6672432 , -1.773581  ,  0.9220101 , -3.9395905 , -0.99664396,\n",
       "       -1.7930382 , -2.8258536 , -0.6562725 , -2.1652029 , -0.38206315,\n",
       "       -1.715109  ,  1.192131  ,  0.224447  , -1.0141487 , -3.2091918 ,\n",
       "       -0.62771505, -2.6424978 , -0.01376309, -0.59063363,  0.5764091 ,\n",
       "       -0.39951673, -0.65953493, -0.9999445 , -0.54017484,  0.21260615,\n",
       "       -2.7774396 , -1.1333275 , -0.30344853,  3.5454738 ,  0.5627945 ,\n",
       "        1.5983113 , -0.6813271 ,  2.565179  , -0.75166094, -2.3275871 ,\n",
       "       -1.835042  , -0.902203  , -1.528282  , -0.42824045, -4.4598703 ,\n",
       "       -0.09708518, -3.356227  ,  2.716382  , -2.273249  ,  1.106162  ,\n",
       "        3.2798424 , -0.5488741 ,  3.3045573 , -1.2600514 , -0.7463109 ,\n",
       "        0.08424224, -0.8296632 , -0.65013874,  0.1297905 , -0.2468144 ,\n",
       "        0.11950285,  0.03087397,  2.013646  , -0.17853476,  0.79968   ,\n",
       "       -0.7440586 , -1.7538548 ,  2.083405  , -2.549798  ,  1.6312044 ,\n",
       "       -0.990655  , -0.8586764 ,  0.29815996,  1.2022324 ,  0.6171913 ,\n",
       "       -0.499704  ,  2.6073542 , -0.08543001,  1.3429166 ,  0.551527  ],\n",
       "      dtype=float32)"
      ]
     },
     "execution_count": 54,
     "metadata": {},
     "output_type": "execute_result"
    }
   ],
   "source": [
    "w2v_model.wv['india']"
   ]
  },
  {
   "cell_type": "code",
   "execution_count": 55,
   "metadata": {
    "colab": {
     "base_uri": "https://localhost:8080/"
    },
    "executionInfo": {
     "elapsed": 7,
     "status": "ok",
     "timestamp": 1630010904273,
     "user": {
      "displayName": "Aman Singh",
      "photoUrl": "https://lh3.googleusercontent.com/a-/AOh14GgCMG5tAFMLpMbnz0yQD9qGlcZDV7pahu9FRnVHkw=s64",
      "userId": "15069203180863103067"
     },
     "user_tz": -330
    },
    "id": "YSJddmsCIa0P",
    "outputId": "908c6791-f00d-475d-ca94-8355d758ae90"
   },
   "outputs": [
    {
     "data": {
      "text/plain": [
       "[('pakistan', 0.7978940010070801),\n",
       " ('malaysia', 0.7818710207939148),\n",
       " ('gwadar', 0.7290103435516357),\n",
       " ('thailand', 0.7136421203613281),\n",
       " ('indonesia', 0.6975665092468262),\n",
       " ('philippines', 0.681427538394928),\n",
       " ('singapore', 0.67158043384552),\n",
       " ('china', 0.6647745370864868),\n",
       " ('djibouti', 0.6643491983413696),\n",
       " ('modi', 0.6597554683685303)]"
      ]
     },
     "execution_count": 55,
     "metadata": {},
     "output_type": "execute_result"
    }
   ],
   "source": [
    "w2v_model.wv.most_similar('india') # word getting frequent with india article"
   ]
  },
  {
   "cell_type": "code",
   "execution_count": 56,
   "metadata": {
    "executionInfo": {
     "elapsed": 10737,
     "status": "ok",
     "timestamp": 1630010915006,
     "user": {
      "displayName": "Aman Singh",
      "photoUrl": "https://lh3.googleusercontent.com/a-/AOh14GgCMG5tAFMLpMbnz0yQD9qGlcZDV7pahu9FRnVHkw=s64",
      "userId": "15069203180863103067"
     },
     "user_tz": -330
    },
    "id": "x7IXLhabIa2l"
   },
   "outputs": [],
   "source": [
    "tokenizer = Tokenizer()\n",
    "tokenizer.fit_on_texts(X)"
   ]
  },
  {
   "cell_type": "code",
   "execution_count": 57,
   "metadata": {
    "executionInfo": {
     "elapsed": 8271,
     "status": "ok",
     "timestamp": 1630010923275,
     "user": {
      "displayName": "Aman Singh",
      "photoUrl": "https://lh3.googleusercontent.com/a-/AOh14GgCMG5tAFMLpMbnz0yQD9qGlcZDV7pahu9FRnVHkw=s64",
      "userId": "15069203180863103067"
     },
     "user_tz": -330
    },
    "id": "nO4_NS9fIa4_"
   },
   "outputs": [],
   "source": [
    "X = tokenizer.texts_to_sequences(X)"
   ]
  },
  {
   "cell_type": "code",
   "execution_count": 58,
   "metadata": {
    "colab": {
     "base_uri": "https://localhost:8080/"
    },
    "executionInfo": {
     "elapsed": 15,
     "status": "ok",
     "timestamp": 1630010923276,
     "user": {
      "displayName": "Aman Singh",
      "photoUrl": "https://lh3.googleusercontent.com/a-/AOh14GgCMG5tAFMLpMbnz0yQD9qGlcZDV7pahu9FRnVHkw=s64",
      "userId": "15069203180863103067"
     },
     "user_tz": -330
    },
    "id": "42eictMAIa7e",
    "outputId": "7f6e91a4-6849-484b-9ede-86414c3a96da"
   },
   "outputs": [
    {
     "data": {
      "text/plain": [
       "231911"
      ]
     },
     "execution_count": 58,
     "metadata": {},
     "output_type": "execute_result"
    }
   ],
   "source": [
    "len(tokenizer.word_index)"
   ]
  },
  {
   "cell_type": "code",
   "execution_count": 59,
   "metadata": {
    "colab": {
     "base_uri": "https://localhost:8080/"
    },
    "executionInfo": {
     "elapsed": 13,
     "status": "ok",
     "timestamp": 1630010923276,
     "user": {
      "displayName": "Aman Singh",
      "photoUrl": "https://lh3.googleusercontent.com/a-/AOh14GgCMG5tAFMLpMbnz0yQD9qGlcZDV7pahu9FRnVHkw=s64",
      "userId": "15069203180863103067"
     },
     "user_tz": -330
    },
    "id": "iFKgGNGcKi0M",
    "outputId": "9cccfa62-b3fb-4b4f-ac4c-528e1d755a73"
   },
   "outputs": [
    {
     "data": {
      "text/plain": [
       "[372,\n",
       " 503,\n",
       " 393,\n",
       " 93,\n",
       " 157,\n",
       " 867,\n",
       " 167,\n",
       " 573,\n",
       " 36,\n",
       " 504,\n",
       " 462,\n",
       " 198,\n",
       " 461,\n",
       " 1436,\n",
       " 719,\n",
       " 407,\n",
       " 1039,\n",
       " 351,\n",
       " 93,\n",
       " 17,\n",
       " 407,\n",
       " 348,\n",
       " 429,\n",
       " 583,\n",
       " 4,\n",
       " 380,\n",
       " 241,\n",
       " 415,\n",
       " 290,\n",
       " 294,\n",
       " 223,\n",
       " 216,\n",
       " 86,\n",
       " 301,\n",
       " 489,\n",
       " 428,\n",
       " 657,\n",
       " 798,\n",
       " 508,\n",
       " 365,\n",
       " 226,\n",
       " 668,\n",
       " 741,\n",
       " 207,\n",
       " 646,\n",
       " 559,\n",
       " 346,\n",
       " 95,\n",
       " 398,\n",
       " 277,\n",
       " 78,\n",
       " 131,\n",
       " 478,\n",
       " 23,\n",
       " 260,\n",
       " 249,\n",
       " 421,\n",
       " 52,\n",
       " 327,\n",
       " 528,\n",
       " 1166,\n",
       " 580,\n",
       " 442,\n",
       " 344,\n",
       " 382,\n",
       " 180,\n",
       " 477,\n",
       " 351,\n",
       " 96,\n",
       " 1225,\n",
       " 201,\n",
       " 22,\n",
       " 394,\n",
       " 217,\n",
       " 580,\n",
       " 327,\n",
       " 364,\n",
       " 245,\n",
       " 564,\n",
       " 675,\n",
       " 360,\n",
       " 95,\n",
       " 424,\n",
       " 443,\n",
       " 112,\n",
       " 150,\n",
       " 375,\n",
       " 821,\n",
       " 1077,\n",
       " 530,\n",
       " 396,\n",
       " 340,\n",
       " 116,\n",
       " 783,\n",
       " 297,\n",
       " 379,\n",
       " 600,\n",
       " 191,\n",
       " 530,\n",
       " 90,\n",
       " 306,\n",
       " 200,\n",
       " 279,\n",
       " 344,\n",
       " 164,\n",
       " 411,\n",
       " 582,\n",
       " 268,\n",
       " 829,\n",
       " 320,\n",
       " 151,\n",
       " 182,\n",
       " 290,\n",
       " 641,\n",
       " 410,\n",
       " 523,\n",
       " 356,\n",
       " 260,\n",
       " 466,\n",
       " 525,\n",
       " 643,\n",
       " 411,\n",
       " 351,\n",
       " 148,\n",
       " 12,\n",
       " 866,\n",
       " 400,\n",
       " 582,\n",
       " 383,\n",
       " 465,\n",
       " 383,\n",
       " 596,\n",
       " 335,\n",
       " 48,\n",
       " 366,\n",
       " 1212,\n",
       " 465,\n",
       " 79,\n",
       " 470,\n",
       " 45,\n",
       " 146,\n",
       " 284,\n",
       " 752,\n",
       " 232,\n",
       " 897,\n",
       " 370,\n",
       " 96,\n",
       " 254,\n",
       " 502,\n",
       " 269,\n",
       " 345,\n",
       " 317,\n",
       " 55,\n",
       " 368,\n",
       " 489,\n",
       " 600,\n",
       " 140,\n",
       " 369,\n",
       " 432,\n",
       " 98,\n",
       " 146,\n",
       " 151,\n",
       " 642,\n",
       " 110,\n",
       " 561,\n",
       " 229,\n",
       " 415,\n",
       " 807,\n",
       " 89,\n",
       " 73,\n",
       " 590,\n",
       " 189,\n",
       " 42,\n",
       " 529,\n",
       " 286,\n",
       " 86,\n",
       " 14,\n",
       " 567,\n",
       " 323,\n",
       " 346,\n",
       " 370,\n",
       " 206,\n",
       " 323,\n",
       " 291,\n",
       " 251,\n",
       " 88,\n",
       " 456,\n",
       " 186,\n",
       " 180,\n",
       " 452,\n",
       " 21,\n",
       " 344,\n",
       " 91,\n",
       " 593,\n",
       " 435,\n",
       " 276,\n",
       " 238,\n",
       " 350,\n",
       " 196,\n",
       " 544,\n",
       " 569,\n",
       " 105,\n",
       " 549,\n",
       " 802,\n",
       " 275,\n",
       " 668,\n",
       " 334,\n",
       " 370,\n",
       " 798,\n",
       " 329,\n",
       " 404,\n",
       " 521,\n",
       " 90,\n",
       " 338,\n",
       " 56,\n",
       " 383,\n",
       " 242,\n",
       " 409,\n",
       " 1312,\n",
       " 352,\n",
       " 231,\n",
       " 104,\n",
       " 333,\n",
       " 381,\n",
       " 84,\n",
       " 750,\n",
       " 239,\n",
       " 365,\n",
       " 361,\n",
       " 368,\n",
       " 78,\n",
       " 355,\n",
       " 140,\n",
       " 351,\n",
       " 688,\n",
       " 305,\n",
       " 658,\n",
       " 370,\n",
       " 651,\n",
       " 385,\n",
       " 345,\n",
       " 421,\n",
       " 110,\n",
       " 1003,\n",
       " 336,\n",
       " 822,\n",
       " 685,\n",
       " 454,\n",
       " 692,\n",
       " 395,\n",
       " 260,\n",
       " 65,\n",
       " 577,\n",
       " 421,\n",
       " 406,\n",
       " 147,\n",
       " 24,\n",
       " 939,\n",
       " 305,\n",
       " 324,\n",
       " 446,\n",
       " 319,\n",
       " 325,\n",
       " 390,\n",
       " 110,\n",
       " 1186,\n",
       " 392,\n",
       " 57,\n",
       " 1271,\n",
       " 92,\n",
       " 310,\n",
       " 171,\n",
       " 444,\n",
       " 473,\n",
       " 211,\n",
       " 135,\n",
       " 680,\n",
       " 448,\n",
       " 687,\n",
       " 484,\n",
       " 13,\n",
       " 434,\n",
       " 87,\n",
       " 1133,\n",
       " 695,\n",
       " 561,\n",
       " 198,\n",
       " 36,\n",
       " 378,\n",
       " 117,\n",
       " 114,\n",
       " 108,\n",
       " 296,\n",
       " 492,\n",
       " 268,\n",
       " 10,\n",
       " 182,\n",
       " 301,\n",
       " 382,\n",
       " 3098,\n",
       " 212,\n",
       " 332,\n",
       " 509,\n",
       " 341,\n",
       " 126,\n",
       " 191,\n",
       " 483,\n",
       " 342,\n",
       " 337,\n",
       " 227,\n",
       " 322,\n",
       " 109,\n",
       " 410,\n",
       " 878,\n",
       " 565,\n",
       " 78,\n",
       " 231,\n",
       " 646,\n",
       " 523,\n",
       " 663,\n",
       " 338,\n",
       " 390,\n",
       " 275,\n",
       " 10,\n",
       " 290,\n",
       " 227,\n",
       " 107,\n",
       " 1170,\n",
       " 267,\n",
       " 1078,\n",
       " 389,\n",
       " 188,\n",
       " 310,\n",
       " 301,\n",
       " 408,\n",
       " 623,\n",
       " 419,\n",
       " 644,\n",
       " 381,\n",
       " 440,\n",
       " 118,\n",
       " 210,\n",
       " 126,\n",
       " 347,\n",
       " 476,\n",
       " 407,\n",
       " 41,\n",
       " 410,\n",
       " 516,\n",
       " 156,\n",
       " 690,\n",
       " 631,\n",
       " 130,\n",
       " 293,\n",
       " 522,\n",
       " 416,\n",
       " 713,\n",
       " 92,\n",
       " 457,\n",
       " 66,\n",
       " 72,\n",
       " 355,\n",
       " 14,\n",
       " 570,\n",
       " 769,\n",
       " 386,\n",
       " 102,\n",
       " 127,\n",
       " 456,\n",
       " 157,\n",
       " 278,\n",
       " 426,\n",
       " 910,\n",
       " 448,\n",
       " 260,\n",
       " 560,\n",
       " 74,\n",
       " 523,\n",
       " 685,\n",
       " 717,\n",
       " 309,\n",
       " 398,\n",
       " 501,\n",
       " 651,\n",
       " 509,\n",
       " 301,\n",
       " 1044,\n",
       " 410,\n",
       " 844,\n",
       " 677,\n",
       " 359,\n",
       " 221,\n",
       " 21,\n",
       " 166,\n",
       " 415,\n",
       " 318,\n",
       " 282,\n",
       " 445,\n",
       " 982,\n",
       " 92,\n",
       " 727,\n",
       " 401,\n",
       " 141,\n",
       " 91,\n",
       " 893,\n",
       " 364,\n",
       " 406,\n",
       " 81,\n",
       " 476,\n",
       " 301,\n",
       " 459,\n",
       " 14,\n",
       " 882,\n",
       " 382,\n",
       " 527,\n",
       " 84,\n",
       " 550,\n",
       " 349,\n",
       " 136,\n",
       " 247,\n",
       " 318,\n",
       " 37,\n",
       " 340,\n",
       " 299,\n",
       " 129,\n",
       " 730,\n",
       " 95,\n",
       " 737,\n",
       " 871,\n",
       " 477,\n",
       " 167,\n",
       " 340,\n",
       " 30,\n",
       " 377,\n",
       " 77,\n",
       " 411,\n",
       " 133,\n",
       " 549,\n",
       " 56,\n",
       " 324,\n",
       " 744,\n",
       " 94,\n",
       " 550,\n",
       " 882,\n",
       " 710,\n",
       " 324,\n",
       " 341,\n",
       " 414,\n",
       " 376,\n",
       " 308,\n",
       " 515,\n",
       " 96,\n",
       " 314,\n",
       " 408,\n",
       " 585,\n",
       " 538,\n",
       " 431,\n",
       " 744,\n",
       " 374,\n",
       " 399,\n",
       " 393,\n",
       " 165,\n",
       " 148,\n",
       " 445,\n",
       " 242,\n",
       " 216,\n",
       " 962,\n",
       " 579,\n",
       " 240,\n",
       " 121,\n",
       " 981,\n",
       " 341,\n",
       " 517,\n",
       " 244,\n",
       " 909,\n",
       " 405,\n",
       " 997,\n",
       " 959,\n",
       " 562,\n",
       " 383,\n",
       " 491,\n",
       " 1865,\n",
       " 70,\n",
       " 139,\n",
       " 76,\n",
       " 372,\n",
       " 72,\n",
       " 363,\n",
       " 193,\n",
       " 351,\n",
       " 107,\n",
       " 742,\n",
       " 322,\n",
       " 569,\n",
       " 413,\n",
       " 81,\n",
       " 316,\n",
       " 169,\n",
       " 402,\n",
       " 401,\n",
       " 286,\n",
       " 305,\n",
       " 853,\n",
       " 326,\n",
       " 593,\n",
       " 1120,\n",
       " 294,\n",
       " 244,\n",
       " 408,\n",
       " 104,\n",
       " 427,\n",
       " 1304,\n",
       " 391,\n",
       " 380,\n",
       " 496,\n",
       " 11,\n",
       " 18,\n",
       " 583,\n",
       " 99,\n",
       " 568,\n",
       " 417,\n",
       " 230,\n",
       " 87,\n",
       " 371,\n",
       " 1391,\n",
       " 432,\n",
       " 195,\n",
       " 503,\n",
       " 331,\n",
       " 137,\n",
       " 55,\n",
       " 103,\n",
       " 113,\n",
       " 13,\n",
       " 190,\n",
       " 319,\n",
       " 714,\n",
       " 403,\n",
       " 340,\n",
       " 240,\n",
       " 439,\n",
       " 69,\n",
       " 71,\n",
       " 424,\n",
       " 94,\n",
       " 334,\n",
       " 387,\n",
       " 474,\n",
       " 817,\n",
       " 515,\n",
       " 576,\n",
       " 464,\n",
       " 486,\n",
       " 608,\n",
       " 62,\n",
       " 85,\n",
       " 34,\n",
       " 288,\n",
       " 401,\n",
       " 494,\n",
       " 506,\n",
       " 233,\n",
       " 127,\n",
       " 370,\n",
       " 806,\n",
       " 117,\n",
       " 352,\n",
       " 942,\n",
       " 397,\n",
       " 396,\n",
       " 154,\n",
       " 357,\n",
       " 214,\n",
       " 840,\n",
       " 401,\n",
       " 299,\n",
       " 86,\n",
       " 318,\n",
       " 577,\n",
       " 443,\n",
       " 404,\n",
       " 401,\n",
       " 79,\n",
       " 10,\n",
       " 364,\n",
       " 491,\n",
       " 1268,\n",
       " 550,\n",
       " 89,\n",
       " 42,\n",
       " 671,\n",
       " 414,\n",
       " 303,\n",
       " 783,\n",
       " 401,\n",
       " 486,\n",
       " 326,\n",
       " 579,\n",
       " 412,\n",
       " 399,\n",
       " 442,\n",
       " 747,\n",
       " 440,\n",
       " 194,\n",
       " 420,\n",
       " 422,\n",
       " 139,\n",
       " 289,\n",
       " 233,\n",
       " 530,\n",
       " 595,\n",
       " 467,\n",
       " 273,\n",
       " 418,\n",
       " 108,\n",
       " 373,\n",
       " 422,\n",
       " 223,\n",
       " 305,\n",
       " 431,\n",
       " 539,\n",
       " 363,\n",
       " 404,\n",
       " 252,\n",
       " 1154,\n",
       " 310,\n",
       " 293,\n",
       " 215,\n",
       " 335,\n",
       " 814,\n",
       " 523,\n",
       " 1124,\n",
       " 878,\n",
       " 224,\n",
       " 203,\n",
       " 712,\n",
       " 458,\n",
       " 182,\n",
       " 829,\n",
       " 72,\n",
       " 858,\n",
       " 169,\n",
       " 289,\n",
       " 320,\n",
       " 435,\n",
       " 994,\n",
       " 236,\n",
       " 586,\n",
       " 280,\n",
       " 519,\n",
       " 87,\n",
       " 47,\n",
       " 62,\n",
       " 387,\n",
       " 206,\n",
       " 2827,\n",
       " 28,\n",
       " 1935,\n",
       " 90,\n",
       " 418,\n",
       " 349,\n",
       " 94,\n",
       " 465,\n",
       " 634,\n",
       " 224,\n",
       " 9,\n",
       " 180,\n",
       " 151,\n",
       " 364,\n",
       " 691,\n",
       " 505,\n",
       " 446,\n",
       " 248,\n",
       " 407,\n",
       " 272,\n",
       " 359,\n",
       " 485,\n",
       " 485,\n",
       " 63,\n",
       " 218,\n",
       " 654,\n",
       " 932,\n",
       " 124,\n",
       " 287,\n",
       " 122,\n",
       " 166,\n",
       " 270,\n",
       " 464,\n",
       " 674,\n",
       " 64,\n",
       " 503,\n",
       " 372,\n",
       " 647,\n",
       " 501,\n",
       " 258,\n",
       " 384,\n",
       " 117,\n",
       " 209,\n",
       " 454,\n",
       " 683,\n",
       " 439,\n",
       " 410,\n",
       " 141,\n",
       " 796,\n",
       " 471,\n",
       " 393,\n",
       " 267,\n",
       " 384,\n",
       " 85,\n",
       " 315,\n",
       " 1398,\n",
       " 390,\n",
       " 416,\n",
       " 292,\n",
       " 484,\n",
       " 54,\n",
       " 388,\n",
       " 561,\n",
       " 289,\n",
       " 170,\n",
       " 33,\n",
       " 163,\n",
       " 358,\n",
       " 621,\n",
       " 220,\n",
       " 452,\n",
       " 47,\n",
       " 374,\n",
       " 180,\n",
       " 229,\n",
       " 164,\n",
       " 63,\n",
       " 298,\n",
       " 365,\n",
       " 301,\n",
       " 611,\n",
       " 428,\n",
       " 356,\n",
       " 159,\n",
       " 404,\n",
       " 234,\n",
       " 549,\n",
       " 102,\n",
       " 71,\n",
       " 445,\n",
       " 394,\n",
       " 440,\n",
       " 550,\n",
       " 102,\n",
       " 980,\n",
       " 80,\n",
       " 23,\n",
       " 390,\n",
       " 123,\n",
       " 461,\n",
       " 390,\n",
       " 124,\n",
       " 236,\n",
       " 406,\n",
       " 14,\n",
       " 696,\n",
       " 77,\n",
       " 597,\n",
       " 284,\n",
       " 284,\n",
       " 190,\n",
       " 411,\n",
       " 534,\n",
       " 405,\n",
       " 850,\n",
       " 178,\n",
       " 354,\n",
       " 454,\n",
       " 1128,\n",
       " 76,\n",
       " 572,\n",
       " 606,\n",
       " 528,\n",
       " 533,\n",
       " 425,\n",
       " 168,\n",
       " 606,\n",
       " 125,\n",
       " 1149,\n",
       " 78,\n",
       " 364,\n",
       " 246,\n",
       " 805,\n",
       " 321,\n",
       " 495,\n",
       " 866,\n",
       " 1246,\n",
       " 292,\n",
       " 409,\n",
       " 117,\n",
       " 361,\n",
       " 301,\n",
       " 737,\n",
       " 384,\n",
       " 389,\n",
       " 105,\n",
       " 333,\n",
       " 780,\n",
       " 863,\n",
       " 726,\n",
       " 328,\n",
       " 30,\n",
       " 218,\n",
       " 481,\n",
       " 468,\n",
       " 457,\n",
       " 124,\n",
       " 294,\n",
       " 623,\n",
       " 395,\n",
       " 950,\n",
       " 322,\n",
       " 329,\n",
       " 51,\n",
       " 395,\n",
       " 275,\n",
       " 168,\n",
       " 88,\n",
       " 354,\n",
       " 755,\n",
       " 102,\n",
       " 390,\n",
       " 25,\n",
       " 259,\n",
       " 12,\n",
       " 389,\n",
       " 540,\n",
       " 383,\n",
       " 95,\n",
       " 337,\n",
       " 82,\n",
       " 311,\n",
       " 310,\n",
       " 243,\n",
       " 259,\n",
       " 204,\n",
       " 825,\n",
       " 474,\n",
       " 68,\n",
       " 380,\n",
       " 402,\n",
       " 2669,\n",
       " 408,\n",
       " 216,\n",
       " 799,\n",
       " 421,\n",
       " 325,\n",
       " 523,\n",
       " 319,\n",
       " 684,\n",
       " 116,\n",
       " 909,\n",
       " 183,\n",
       " 374,\n",
       " 74,\n",
       " 136,\n",
       " 397,\n",
       " 277,\n",
       " 956,\n",
       " 244,\n",
       " 796,\n",
       " 592,\n",
       " 446,\n",
       " 101,\n",
       " 17,\n",
       " 360,\n",
       " 463,\n",
       " 406,\n",
       " 398,\n",
       " 267,\n",
       " 344,\n",
       " 995,\n",
       " 240,\n",
       " 294,\n",
       " 489,\n",
       " 219,\n",
       " 114,\n",
       " 757,\n",
       " 366,\n",
       " 456,\n",
       " 532,\n",
       " 935,\n",
       " 721,\n",
       " 403,\n",
       " 395,\n",
       " 307,\n",
       " 422,\n",
       " 90,\n",
       " 30,\n",
       " 505,\n",
       " 190,\n",
       " 102,\n",
       " 434,\n",
       " 951,\n",
       " 616,\n",
       " 707,\n",
       " 45,\n",
       " 173,\n",
       " 477,\n",
       " 442,\n",
       " 308,\n",
       " 59,\n",
       " 999,\n",
       " 819,\n",
       " 905,\n",
       " 94,\n",
       " 78,\n",
       " 2396,\n",
       " 292,\n",
       " 706,\n",
       " 275,\n",
       " 261,\n",
       " 177,\n",
       " 337,\n",
       " 175,\n",
       " 157,\n",
       " 233,\n",
       " 408,\n",
       " 389,\n",
       " 948,\n",
       " 290,\n",
       " 377,\n",
       " 312,\n",
       " 156,\n",
       " 131,\n",
       " 294,\n",
       " 855,\n",
       " 301,\n",
       " 405,\n",
       " 57,\n",
       " 585,\n",
       " 79,\n",
       " 517,\n",
       " 257,\n",
       " 423,\n",
       " 773,\n",
       " 498,\n",
       " 393,\n",
       " 14,\n",
       " 98,\n",
       " 127,\n",
       " 71,\n",
       " 184,\n",
       " 79,\n",
       " 435,\n",
       " 373,\n",
       " 103,\n",
       " 647,\n",
       " 663,\n",
       " 269,\n",
       " 249,\n",
       " 605,\n",
       " 322,\n",
       " 311,\n",
       " 35,\n",
       " 105,\n",
       " 409,\n",
       " 155,\n",
       " 408,\n",
       " 62,\n",
       " 307,\n",
       " 197,\n",
       " 360,\n",
       " 131,\n",
       " 217,\n",
       " 611,\n",
       " 128,\n",
       " 429,\n",
       " 875,\n",
       " 428,\n",
       " 1553,\n",
       " 333,\n",
       " 298,\n",
       " 439,\n",
       " 1391,\n",
       " 346,\n",
       " 215,\n",
       " 212,\n",
       " 188,\n",
       " 449,\n",
       " 645,\n",
       " 12,\n",
       " 857,\n",
       " 378,\n",
       " 209,\n",
       " 292,\n",
       " 441,\n",
       " 619,\n",
       " 413,\n",
       " 402,\n",
       " 445,\n",
       " 425,\n",
       " 76,\n",
       " 393,\n",
       " 343,\n",
       " ...]"
      ]
     },
     "execution_count": 59,
     "metadata": {},
     "output_type": "execute_result"
    }
   ],
   "source": [
    "[len(x) for x in X]"
   ]
  },
  {
   "cell_type": "code",
   "execution_count": 60,
   "metadata": {
    "colab": {
     "base_uri": "https://localhost:8080/",
     "height": 265
    },
    "executionInfo": {
     "elapsed": 1217,
     "status": "ok",
     "timestamp": 1630010924483,
     "user": {
      "displayName": "Aman Singh",
      "photoUrl": "https://lh3.googleusercontent.com/a-/AOh14GgCMG5tAFMLpMbnz0yQD9qGlcZDV7pahu9FRnVHkw=s64",
      "userId": "15069203180863103067"
     },
     "user_tz": -330
    },
    "id": "fA4aDlGjKi3B",
    "outputId": "dac8677c-d957-4d1c-e757-288d068cbf91"
   },
   "outputs": [
    {
     "data": {
      "image/png": "[encoded data removed]",
      "text/plain": [
       "<Figure size 432x288 with 1 Axes>"
      ]
     },
     "metadata": {
      "needs_background": "light"
     },
     "output_type": "display_data"
    }
   ],
   "source": [
    "plt.hist([len(x) for x in X] , bins = 700)\n",
    "plt.show()"
   ]
  },
  {
   "cell_type": "code",
   "execution_count": 61,
   "metadata": {
    "colab": {
     "base_uri": "https://localhost:8080/"
    },
    "executionInfo": {
     "elapsed": 7,
     "status": "ok",
     "timestamp": 1630010924483,
     "user": {
      "displayName": "Aman Singh",
      "photoUrl": "https://lh3.googleusercontent.com/a-/AOh14GgCMG5tAFMLpMbnz0yQD9qGlcZDV7pahu9FRnVHkw=s64",
      "userId": "15069203180863103067"
     },
     "user_tz": -330
    },
    "id": "mdwPifZrKi58",
    "outputId": "e28182ae-b8c0-4ae9-c346-90a702fad38b"
   },
   "outputs": [
    {
     "data": {
      "text/plain": [
       "1584"
      ]
     },
     "execution_count": 61,
     "metadata": {},
     "output_type": "execute_result"
    }
   ],
   "source": [
    "nos = np.array([len(x) for x in X])\n",
    "len(nos[nos>1000])"
   ]
  },
  {
   "cell_type": "code",
   "execution_count": 62,
   "metadata": {
    "executionInfo": {
     "elapsed": 1848,
     "status": "ok",
     "timestamp": 1630010926328,
     "user": {
      "displayName": "Aman Singh",
      "photoUrl": "https://lh3.googleusercontent.com/a-/AOh14GgCMG5tAFMLpMbnz0yQD9qGlcZDV7pahu9FRnVHkw=s64",
      "userId": "15069203180863103067"
     },
     "user_tz": -330
    },
    "id": "xktjN_IvKi8d"
   },
   "outputs": [],
   "source": [
    "maxlen = 1000\n",
    "X = pad_sequences(X , maxlen = maxlen)"
   ]
  },
  {
   "cell_type": "code",
   "execution_count": 63,
   "metadata": {
    "colab": {
     "base_uri": "https://localhost:8080/"
    },
    "executionInfo": {
     "elapsed": 7,
     "status": "ok",
     "timestamp": 1630010926329,
     "user": {
      "displayName": "Aman Singh",
      "photoUrl": "https://lh3.googleusercontent.com/a-/AOh14GgCMG5tAFMLpMbnz0yQD9qGlcZDV7pahu9FRnVHkw=s64",
      "userId": "15069203180863103067"
     },
     "user_tz": -330
    },
    "id": "IK0RCNS4Ki_s",
    "outputId": "ac1cfa37-d661-4dc4-bde3-a40f687c9d69"
   },
   "outputs": [
    {
     "data": {
      "text/plain": [
       "1000"
      ]
     },
     "execution_count": 63,
     "metadata": {},
     "output_type": "execute_result"
    }
   ],
   "source": [
    "len(X[1023])"
   ]
  },
  {
   "cell_type": "code",
   "execution_count": 64,
   "metadata": {
    "executionInfo": {
     "elapsed": 5,
     "status": "ok",
     "timestamp": 1630010926329,
     "user": {
      "displayName": "Aman Singh",
      "photoUrl": "https://lh3.googleusercontent.com/a-/AOh14GgCMG5tAFMLpMbnz0yQD9qGlcZDV7pahu9FRnVHkw=s64",
      "userId": "15069203180863103067"
     },
     "user_tz": -330
    },
    "id": "cS_CN5PsKjBz"
   },
   "outputs": [],
   "source": [
    "vocab_size = len(tokenizer.word_index) + 1"
   ]
  },
  {
   "cell_type": "code",
   "execution_count": 65,
   "metadata": {
    "executionInfo": {
     "elapsed": 5,
     "status": "ok",
     "timestamp": 1630010926329,
     "user": {
      "displayName": "Aman Singh",
      "photoUrl": "https://lh3.googleusercontent.com/a-/AOh14GgCMG5tAFMLpMbnz0yQD9qGlcZDV7pahu9FRnVHkw=s64",
      "userId": "15069203180863103067"
     },
     "user_tz": -330
    },
    "id": "pmHiwZgVKjEW"
   },
   "outputs": [],
   "source": [
    "vocab = tokenizer.word_index"
   ]
  },
  {
   "cell_type": "code",
   "execution_count": 66,
   "metadata": {
    "executionInfo": {
     "elapsed": 5,
     "status": "ok",
     "timestamp": 1630010926330,
     "user": {
      "displayName": "Aman Singh",
      "photoUrl": "https://lh3.googleusercontent.com/a-/AOh14GgCMG5tAFMLpMbnz0yQD9qGlcZDV7pahu9FRnVHkw=s64",
      "userId": "15069203180863103067"
     },
     "user_tz": -330
    },
    "id": "e53UReYEKjG5"
   },
   "outputs": [],
   "source": [
    "def get_weight_matrix(model):\n",
    "    weight_matrix = np.zeros((vocab_size , DIM))\n",
    "    \n",
    "    for word, i in vocab.items():\n",
    "        weight_matrix[i] = model.wv[word]\n",
    "        \n",
    "    return weight_matrix"
   ]
  },
  {
   "cell_type": "code",
   "execution_count": 67,
   "metadata": {
    "executionInfo": {
     "elapsed": 651,
     "status": "ok",
     "timestamp": 1630010926976,
     "user": {
      "displayName": "Aman Singh",
      "photoUrl": "https://lh3.googleusercontent.com/a-/AOh14GgCMG5tAFMLpMbnz0yQD9qGlcZDV7pahu9FRnVHkw=s64",
      "userId": "15069203180863103067"
     },
     "user_tz": -330
    },
    "id": "jhIFsTGeKjJd"
   },
   "outputs": [],
   "source": [
    "embedding_vectors = get_weight_matrix(w2v_model)"
   ]
  },
  {
   "cell_type": "code",
   "execution_count": 68,
   "metadata": {
    "colab": {
     "base_uri": "https://localhost:8080/"
    },
    "executionInfo": {
     "elapsed": 3,
     "status": "ok",
     "timestamp": 1630010926977,
     "user": {
      "displayName": "Aman Singh",
      "photoUrl": "https://lh3.googleusercontent.com/a-/AOh14GgCMG5tAFMLpMbnz0yQD9qGlcZDV7pahu9FRnVHkw=s64",
      "userId": "15069203180863103067"
     },
     "user_tz": -330
    },
    "id": "pyxVVHuIKjMC",
    "outputId": "7fce267f-a411-4e9f-d5bc-04e304a31892"
   },
   "outputs": [
    {
     "data": {
      "text/plain": [
       "(231912, 100)"
      ]
     },
     "execution_count": 68,
     "metadata": {},
     "output_type": "execute_result"
    }
   ],
   "source": [
    "embedding_vectors.shape"
   ]
  },
  {
   "cell_type": "markdown",
   "metadata": {},
   "source": [
    "### Building Model using LSTM"
   ]
  },
  {
   "cell_type": "code",
   "execution_count": 69,
   "metadata": {
    "executionInfo": {
     "elapsed": 6176,
     "status": "ok",
     "timestamp": 1630010933151,
     "user": {
      "displayName": "Aman Singh",
      "photoUrl": "https://lh3.googleusercontent.com/a-/AOh14GgCMG5tAFMLpMbnz0yQD9qGlcZDV7pahu9FRnVHkw=s64",
      "userId": "15069203180863103067"
     },
     "user_tz": -330
    },
    "id": "wxIRFCmVKjOo"
   },
   "outputs": [],
   "source": [
    "model = Sequential()\n",
    "model.add(Embedding(vocab_size , output_dim = DIM, weights = [embedding_vectors], input_length = maxlen, trainable = False ))\n",
    "model.add(LSTM(units = 128))\n",
    "model.add(Dense(1, activation='sigmoid'))\n",
    "model.compile(optimizer='adam' , loss = 'binary_crossentropy' , metrics = ['acc'])"
   ]
  },
  {
   "cell_type": "code",
   "execution_count": 70,
   "metadata": {
    "colab": {
     "base_uri": "https://localhost:8080/"
    },
    "executionInfo": {
     "elapsed": 14,
     "status": "ok",
     "timestamp": 1630010933153,
     "user": {
      "displayName": "Aman Singh",
      "photoUrl": "https://lh3.googleusercontent.com/a-/AOh14GgCMG5tAFMLpMbnz0yQD9qGlcZDV7pahu9FRnVHkw=s64",
      "userId": "15069203180863103067"
     },
     "user_tz": -330
    },
    "id": "SCYpGsDdKjSD",
    "outputId": "f28b3715-c60a-419d-c9ec-38012943d3db"
   },
   "outputs": [
    {
     "name": "stdout",
     "output_type": "stream",
     "text": [
      "Model: \"sequential\"\n",
      "_________________________________________________________________\n",
      "Layer (type)                 Output Shape              Param #   \n",
      "=================================================================\n",
      "embedding (Embedding)        (None, 1000, 100)         23191200  \n",
      "_________________________________________________________________\n",
      "lstm (LSTM)                  (None, 128)               117248    \n",
      "_________________________________________________________________\n",
      "dense (Dense)                (None, 1)                 129       \n",
      "=================================================================\n",
      "Total params: 23,308,577\n",
      "Trainable params: 117,377\n",
      "Non-trainable params: 23,191,200\n",
      "_________________________________________________________________\n"
     ]
    }
   ],
   "source": [
    "model.summary()"
   ]
  },
  {
   "cell_type": "code",
   "execution_count": 71,
   "metadata": {
    "executionInfo": {
     "elapsed": 6,
     "status": "ok",
     "timestamp": 1630010933154,
     "user": {
      "displayName": "Aman Singh",
      "photoUrl": "https://lh3.googleusercontent.com/a-/AOh14GgCMG5tAFMLpMbnz0yQD9qGlcZDV7pahu9FRnVHkw=s64",
      "userId": "15069203180863103067"
     },
     "user_tz": -330
    },
    "id": "DYt2H6shLBDw"
   },
   "outputs": [],
   "source": [
    "X_train, X_test , y_train, y_test = train_test_split(X,y)"
   ]
  },
  {
   "cell_type": "code",
   "execution_count": 72,
   "metadata": {
    "colab": {
     "base_uri": "https://localhost:8080/"
    },
    "executionInfo": {
     "elapsed": 226467,
     "status": "ok",
     "timestamp": 1630011164616,
     "user": {
      "displayName": "Aman Singh",
      "photoUrl": "https://lh3.googleusercontent.com/a-/AOh14GgCMG5tAFMLpMbnz0yQD9qGlcZDV7pahu9FRnVHkw=s64",
      "userId": "15069203180863103067"
     },
     "user_tz": -330
    },
    "id": "OIFeQpHALBHp",
    "outputId": "3317fad0-bd06-4a57-aecc-54d804c2d14b"
   },
   "outputs": [
    {
     "name": "stdout",
     "output_type": "stream",
     "text": [
      "Epoch 1/6\n",
      "737/737 [==============================] - 45s 50ms/step - loss: 0.1460 - acc: 0.9461 - val_loss: 0.1391 - val_acc: 0.9476\n",
      "Epoch 2/6\n",
      "737/737 [==============================] - 36s 49ms/step - loss: 0.0908 - acc: 0.9706 - val_loss: 0.2898 - val_acc: 0.8605\n",
      "Epoch 3/6\n",
      "737/737 [==============================] - 36s 49ms/step - loss: 0.0726 - acc: 0.9745 - val_loss: 0.0327 - val_acc: 0.9908\n",
      "Epoch 4/6\n",
      "737/737 [==============================] - 36s 49ms/step - loss: 0.0288 - acc: 0.9912 - val_loss: 0.0634 - val_acc: 0.9764\n",
      "Epoch 5/6\n",
      "737/737 [==============================] - 36s 49ms/step - loss: 0.0257 - acc: 0.9917 - val_loss: 0.0243 - val_acc: 0.9930\n",
      "Epoch 6/6\n",
      "737/737 [==============================] - 36s 49ms/step - loss: 0.0185 - acc: 0.9941 - val_loss: 0.0133 - val_acc: 0.9951\n"
     ]
    },
    {
     "data": {
      "text/plain": [
       "<keras.callbacks.History at 0x7fc0a3b12050>"
      ]
     },
     "execution_count": 72,
     "metadata": {},
     "output_type": "execute_result"
    }
   ],
   "source": [
    "model.fit(X_train, y_train, validation_split = 0.3, epochs = 6)"
   ]
  },
  {
   "cell_type": "code",
   "execution_count": 73,
   "metadata": {
    "executionInfo": {
     "elapsed": 6034,
     "status": "ok",
     "timestamp": 1630011170641,
     "user": {
      "displayName": "Aman Singh",
      "photoUrl": "https://lh3.googleusercontent.com/a-/AOh14GgCMG5tAFMLpMbnz0yQD9qGlcZDV7pahu9FRnVHkw=s64",
      "userId": "15069203180863103067"
     },
     "user_tz": -330
    },
    "id": "ZWOcyXzaLBLe"
   },
   "outputs": [],
   "source": [
    "y_pred = (model.predict(X_test) > 0.5).astype(int)"
   ]
  },
  {
   "cell_type": "markdown",
   "metadata": {},
   "source": [
    "### Evaluation Metrics"
   ]
  },
  {
   "cell_type": "code",
   "execution_count": 74,
   "metadata": {
    "colab": {
     "base_uri": "https://localhost:8080/"
    },
    "executionInfo": {
     "elapsed": 14,
     "status": "ok",
     "timestamp": 1630011170644,
     "user": {
      "displayName": "Aman Singh",
      "photoUrl": "https://lh3.googleusercontent.com/a-/AOh14GgCMG5tAFMLpMbnz0yQD9qGlcZDV7pahu9FRnVHkw=s64",
      "userId": "15069203180863103067"
     },
     "user_tz": -330
    },
    "id": "iexj72cFLBOQ",
    "outputId": "82095a17-b59e-48a4-b1a9-d47d0ab78049"
   },
   "outputs": [
    {
     "data": {
      "text/plain": [
       "0.9933184855233853"
      ]
     },
     "execution_count": 74,
     "metadata": {},
     "output_type": "execute_result"
    }
   ],
   "source": [
    "accuracy_score(y_test , y_pred)"
   ]
  },
  {
   "cell_type": "code",
   "execution_count": 75,
   "metadata": {
    "colab": {
     "base_uri": "https://localhost:8080/"
    },
    "executionInfo": {
     "elapsed": 13,
     "status": "ok",
     "timestamp": 1630011170645,
     "user": {
      "displayName": "Aman Singh",
      "photoUrl": "https://lh3.googleusercontent.com/a-/AOh14GgCMG5tAFMLpMbnz0yQD9qGlcZDV7pahu9FRnVHkw=s64",
      "userId": "15069203180863103067"
     },
     "user_tz": -330
    },
    "id": "VYsJyJXHLBRB",
    "outputId": "37576f4f-e62d-4308-8670-728fef8c2151"
   },
   "outputs": [
    {
     "name": "stdout",
     "output_type": "stream",
     "text": [
      "              precision    recall  f1-score   support\n",
      "\n",
      "           0       0.99      0.99      0.99      5874\n",
      "           1       0.99      0.99      0.99      5351\n",
      "\n",
      "    accuracy                           0.99     11225\n",
      "   macro avg       0.99      0.99      0.99     11225\n",
      "weighted avg       0.99      0.99      0.99     11225\n",
      "\n"
     ]
    }
   ],
   "source": [
    "print(classification_report(y_test, y_pred))"
   ]
  },
  {
   "cell_type": "code",
   "execution_count": 76,
   "metadata": {
    "colab": {
     "base_uri": "https://localhost:8080/"
    },
    "executionInfo": {
     "elapsed": 11,
     "status": "ok",
     "timestamp": 1630011170646,
     "user": {
      "displayName": "Aman Singh",
      "photoUrl": "https://lh3.googleusercontent.com/a-/AOh14GgCMG5tAFMLpMbnz0yQD9qGlcZDV7pahu9FRnVHkw=s64",
      "userId": "15069203180863103067"
     },
     "user_tz": -330
    },
    "id": "WMEiHKZdLBTt",
    "outputId": "67b5a61f-dc31-4485-86f4-08a4259071bc"
   },
   "outputs": [
    {
     "name": "stdout",
     "output_type": "stream",
     "text": [
      "[[5834   40]\n",
      " [  35 5316]]\n"
     ]
    }
   ],
   "source": [
    "print(confusion_matrix(y_test, y_pred))"
   ]
  },
  {
   "cell_type": "markdown",
   "metadata": {},
   "source": [
    "### Saving Model"
   ]
  },
  {
   "cell_type": "code",
   "execution_count": 78,
   "metadata": {
    "executionInfo": {
     "elapsed": 2,
     "status": "ok",
     "timestamp": 1630011178844,
     "user": {
      "displayName": "Aman Singh",
      "photoUrl": "https://lh3.googleusercontent.com/a-/AOh14GgCMG5tAFMLpMbnz0yQD9qGlcZDV7pahu9FRnVHkw=s64",
      "userId": "15069203180863103067"
     },
     "user_tz": -330
    },
    "id": "te3t_50OLBYV"
   },
   "outputs": [],
   "source": [
    "model.save('/content/drive/MyDrive/Fake_News_Detection/fake_news_detection.h5')"
   ]
  },
  {
   "cell_type": "markdown",
   "metadata": {},
   "source": [
    "### Testing Model\n",
    "    [0] - Fake news\n",
    "    [1] - Real/True news"
   ]
  },
  {
   "cell_type": "code",
   "execution_count": 79,
   "metadata": {
    "colab": {
     "base_uri": "https://localhost:8080/"
    },
    "executionInfo": {
     "elapsed": 3,
     "status": "ok",
     "timestamp": 1630011184640,
     "user": {
      "displayName": "Aman Singh",
      "photoUrl": "https://lh3.googleusercontent.com/a-/AOh14GgCMG5tAFMLpMbnz0yQD9qGlcZDV7pahu9FRnVHkw=s64",
      "userId": "15069203180863103067"
     },
     "user_tz": -330
    },
    "id": "0bgzYAP3LWQQ",
    "outputId": "69442d1d-7eb1-4ac8-c7ce-c0f41fa60bc8"
   },
   "outputs": [
    {
     "data": {
      "text/plain": [
       "array([[0]])"
      ]
     },
     "execution_count": 79,
     "metadata": {},
     "output_type": "execute_result"
    }
   ],
   "source": [
    "x = ['this is a real news']\n",
    "x = tokenizer.texts_to_sequences(x)\n",
    "x = pad_sequences(x, maxlen = maxlen)\n",
    "(model.predict(x) >= 0.5).astype(int)"
   ]
  },
  {
   "cell_type": "code",
   "execution_count": null,
   "metadata": {
    "id": "n-yQirpAQN3V"
   },
   "outputs": [],
   "source": []
  }
 ],
 "metadata": {
  "accelerator": "GPU",
  "colab": {
   "authorship_tag": "ABX9TyOX5/lDEvp39cRxKIyE1Bii",
   "collapsed_sections": [],
   "name": "Fake News Detection.ipynb",
   "provenance": []
  },
  "kernelspec": {
   "display_name": "Python 3",
   "language": "python",
   "name": "python3"
  },
  "language_info": {
   "codemirror_mode": {
    "name": "ipython",
    "version": 3
   },
   "file_extension": ".py",
   "mimetype": "text/x-python",
   "name": "python",
   "nbconvert_exporter": "python",
   "pygments_lexer": "ipython3",
   "version": "3.8.8"
  }
 },
 "nbformat": 4,
 "nbformat_minor": 1
}
